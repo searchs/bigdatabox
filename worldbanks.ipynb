{
 "metadata": {
  "name": "",
  "signature": "sha256:94a9758fadbbfe764b728695ff816a0687ad5fea9081281b19b3f16691711a33"
 },
 "nbformat": 3,
 "nbformat_minor": 0,
 "worksheets": [
  {
   "cells": [
    {
     "cell_type": "code",
     "collapsed": false,
     "input": [
      "#!pip3 install --upgrade pandas\n",
      "#!pip3 install --upgrade numpy\n",
      "#!pip3 install --upgrade matplotlib\n",
      "#!pip3 install --upgrade statsmodels\n",
      "#!pip3 install --upgrade csvkit"
     ],
     "language": "python",
     "metadata": {},
     "outputs": [],
     "prompt_number": 1
    },
    {
     "cell_type": "code",
     "collapsed": false,
     "input": [
      "# Update local machine python dependencies\n",
      "#!pip3 freeze --local | grep -v '^\\-e' | cut -d = -f 1  | xargs -n1 pip3 install -U\n",
      "#!pip freeze --local | grep -v '^\\-e' | cut -d = -f 1  | xargs -n1 pip install -U"
     ],
     "language": "python",
     "metadata": {},
     "outputs": [],
     "prompt_number": 2
    },
    {
     "cell_type": "code",
     "collapsed": false,
     "input": [
      "!ls -laSh"
     ],
     "language": "python",
     "metadata": {},
     "outputs": [
      {
       "output_type": "stream",
       "stream": "stdout",
       "text": [
        "total 33M\r\n",
        "-rw-rw-r-- 1 devola devola  30M Jun 11  2013 adi_data.csv\r\n",
        "-rw------- 1 devola devola 3.4M Feb 10 12:26 worldbanks.ipynb\r\n",
        "drwxrwxr-x 4 devola devola 4.0K Feb 10 12:26 .\r\n",
        "drwxrwxr-x 4 devola devola 4.0K Feb  9 17:39 ..\r\n",
        "drwxrwxr-x 8 devola devola 4.0K Feb 10 11:57 .git\r\n",
        "drwxrwxr-x 2 devola devola 4.0K Feb 10 10:21 .ipynb_checkpoints\r\n",
        "-rw-rw-r-- 1 devola devola 1.1K Feb  9 17:39 LICENSE\r\n",
        "-rw-rw-r-- 1 devola devola  764 Feb  9 17:39 .gitignore\r\n",
        "-rw-rw-r-- 1 devola devola   27 Feb  9 17:39 README.md\r\n"
       ]
      }
     ],
     "prompt_number": 8
    },
    {
     "cell_type": "code",
     "collapsed": false,
     "input": [
      "import pandas as pd\n",
      "import numpy as np\n",
      "#import statsmodels.api as sm\n",
      "#import matplotlib as plt\n",
      "\n",
      "from pd import Series, DataFrame\n",
      "from IPython.external.mathjax import install_mathjax"
     ],
     "language": "python",
     "metadata": {},
     "outputs": []
    },
    {
     "cell_type": "code",
     "collapsed": false,
     "input": [
      "data = []\n",
      "data = pd.read_csv('adi_data.csv', na_values=None)"
     ],
     "language": "python",
     "metadata": {},
     "outputs": [],
     "prompt_number": 9
    },
    {
     "cell_type": "code",
     "collapsed": false,
     "input": [
      "data.columns"
     ],
     "language": "python",
     "metadata": {},
     "outputs": []
    },
    {
     "cell_type": "code",
     "collapsed": false,
     "input": [
      "print(data.head(7))"
     ],
     "language": "python",
     "metadata": {},
     "outputs": []
    },
    {
     "cell_type": "code",
     "collapsed": false,
     "input": [
      "type(data)"
     ],
     "language": "python",
     "metadata": {},
     "outputs": [
      {
       "metadata": {},
       "output_type": "pyout",
       "prompt_number": 24,
       "text": [
        "pandas.core.frame.DataFrame"
       ]
      }
     ],
     "prompt_number": 24
    },
    {
     "cell_type": "code",
     "collapsed": false,
     "input": [
      "#Get the row and column count of data\n",
      "data.shape"
     ],
     "language": "python",
     "metadata": {},
     "outputs": [
      {
       "metadata": {},
       "output_type": "pyout",
       "prompt_number": 25,
       "text": [
        "(104760, 57)"
       ]
      }
     ],
     "prompt_number": 25
    },
    {
     "cell_type": "code",
     "collapsed": false,
     "input": [
      "# Cleanup the NaNNs- change them all to 0\n",
      "data = data.fillna(0)"
     ],
     "language": "python",
     "metadata": {},
     "outputs": [],
     "prompt_number": 26
    },
    {
     "cell_type": "code",
     "collapsed": false,
     "input": [
      "print(data.head(3))"
     ],
     "language": "python",
     "metadata": {},
     "outputs": []
    },
    {
     "cell_type": "code",
     "collapsed": false,
     "input": [
      "data.columns"
     ],
     "language": "python",
     "metadata": {},
     "outputs": [
      {
       "ename": "NameError",
       "evalue": "name 'data' is not defined",
       "output_type": "pyerr",
       "traceback": [
        "\u001b[0;31m---------------------------------------------------------------------------\u001b[0m\n\u001b[0;31mNameError\u001b[0m                                 Traceback (most recent call last)",
        "\u001b[0;32m<ipython-input-21-061e34d8674b>\u001b[0m in \u001b[0;36m<module>\u001b[0;34m()\u001b[0m\n\u001b[0;32m----> 1\u001b[0;31m \u001b[0mdata\u001b[0m\u001b[0;34m.\u001b[0m\u001b[0mcolumns\u001b[0m\u001b[0;34m\u001b[0m\u001b[0m\n\u001b[0m",
        "\u001b[0;31mNameError\u001b[0m: name 'data' is not defined"
       ]
      }
     ],
     "prompt_number": 21
    },
    {
     "cell_type": "code",
     "collapsed": false,
     "input": [],
     "language": "python",
     "metadata": {},
     "outputs": []
    },
    {
     "cell_type": "code",
     "collapsed": false,
     "input": [],
     "language": "python",
     "metadata": {},
     "outputs": []
    }
   ],
   "metadata": {}
  }
 ]
}