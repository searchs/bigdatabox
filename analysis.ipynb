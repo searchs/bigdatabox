{
 "cells": [
  {
   "cell_type": "code",
   "execution_count": 11,
   "metadata": {},
   "outputs": [],
   "source": [
    "import json\n",
    "import calendar\n",
    "import random\n",
    "from datetime import date, timedelta\n",
    "\n",
    "from faker import Faker\n",
    "import numpy as np\n",
    "from pandas import DataFrame\n",
    "from delorean import parse\n",
    "import pandas as pd\n"
   ]
  },
  {
   "cell_type": "code",
   "execution_count": 15,
   "metadata": {},
   "outputs": [],
   "source": [
    "fake = Faker()"
   ]
  },
  {
   "cell_type": "code",
   "execution_count": 16,
   "metadata": {},
   "outputs": [],
   "source": [
    "usernames = set()\n",
    "usernames_no = 1000\n",
    "# populate the set with 1000 unique usernames\n",
    "while len(usernames) < usernames_no:\n",
    "    usernames.add(fake.user_name())"
   ]
  },
  {
   "cell_type": "code",
   "execution_count": 29,
   "metadata": {},
   "outputs": [
    {
     "data": {
      "text/plain": [
       "['{\"username\": \"bradley28\", \"name\": \"Dennis Rodriguez\", \"gender\": \"M\", \"email\": \"handrews@bullock.com\", \"age\": 20, \"address\": \"316 Rebecca Junction\\\\nNorth Tracyhaven, NV 88546\"}',\n",
       " '{\"username\": \"fvega\", \"name\": \"Stephanie Elliott\", \"gender\": \"F\", \"email\": \"katrina22@hotmail.com\", \"age\": 61, \"address\": \"990 Isabel Groves\\\\nSouth Pamelamouth, CA 03428\"}',\n",
       " '{\"username\": \"shawn17\", \"name\": \"Jennifer Gordon\", \"gender\": \"F\", \"email\": \"megan56@baker-brown.com\", \"age\": 70, \"address\": \"PSC 3743, Box 9377\\\\nAPO AA 81631\"}']"
      ]
     },
     "execution_count": 29,
     "metadata": {},
     "output_type": "execute_result"
    }
   ],
   "source": [
    "def get_random_name_and_gender():\n",
    "    skew = .6\n",
    "    male = random.random() > skew\n",
    "    if male:\n",
    "        return fake.name_male(), 'M'\n",
    "    else:\n",
    "        return fake.name_female(), 'F'\n",
    "\n",
    "def get_users(usernames):\n",
    "    users = []\n",
    "    for username in usernames:\n",
    "        name, gender = get_random_name_and_gender()\n",
    "        \n",
    "        user = {\n",
    "            'username': username,\n",
    "            'name': name,\n",
    "            'gender': gender,\n",
    "            'email': fake.email(),\n",
    "            'age': fake.random_int(min=18, max=90),\n",
    "            'address': fake.address(),\n",
    "        }\n",
    "        \n",
    "        users.append(json.dumps(user))\n",
    "    return users\n",
    "\n",
    "users = get_users(usernames)\n",
    "users[:3]\n",
    "        "
   ]
  },
  {
   "cell_type": "code",
   "execution_count": 43,
   "metadata": {},
   "outputs": [],
   "source": [
    "# Campaign Name format\n",
    "# e.g. InternalType_StartDate_EndDate_TargetAge_Target_Gender_Currency\n",
    "def get_type():\n",
    "    types =['ABB', 'BMX', 'GRZ', 'KTR']\n",
    "    return random.choice(types)\n",
    "\n",
    "def get_start_end_dates():\n",
    "    duration = random.randint(1,2 * 365)\n",
    "    offset = random.randint(-365, 365)\n",
    "    start = date.today() - timedelta(days=offset)\n",
    "    end = start + timedelta(days=duration)\n",
    "    \n",
    "    def _format_date(date_):\n",
    "        return date_.strftime(\"%Y%m%d\")\n",
    "    \n",
    "    return _format_date(start), _format_date(end)\n",
    "\n",
    "def get_age():\n",
    "    age = random.randint(20,45)\n",
    "    age -= age % 5\n",
    "    diff = random.randint(5,25)\n",
    "    diff -= diff % 5\n",
    "    return '{}-{}'.format(age, age + diff)\n",
    "\n",
    "def get_gender():\n",
    "    return random.choice(('M', 'F', 'B'))\n",
    "\n",
    "def get_currency():\n",
    "    return random.choice(('GBP', 'EUR', 'USD'))\n",
    "\n",
    "def get_campaign_name():\n",
    "    separator = '_'\n",
    "    type_ = get_type()\n",
    "    start_end = separator.join(get_start_end_dates())\n",
    "    age = get_age()\n",
    "    gender = get_gender()\n",
    "    currency = get_currency()\n",
    "    return separator.join((type_, start_end, age, gender, currency))"
   ]
  },
  {
   "cell_type": "code",
   "execution_count": 44,
   "metadata": {},
   "outputs": [],
   "source": [
    "def get_campaign_data():\n",
    "    name = get_campaign_name()\n",
    "    budget = random.randint(10**3, 10**6)\n",
    "    spent = random.randint(10**2, budget)\n",
    "    clicks = int(random.triangular(10**2,10**5, 0.2 * 10**5))\n",
    "    impressions = int(random.gauss(0.5 * 10 **6, 2))\n",
    "    return {\n",
    "        'cmp_name': name,\n",
    "        'cmp_bgt' : budget,\n",
    "        'cmp_spent': spent,\n",
    "        'cmp_clicks': clicks,\n",
    "        'cmp_impr': impressions\n",
    "    }"
   ]
  },
  {
   "cell_type": "code",
   "execution_count": 45,
   "metadata": {},
   "outputs": [],
   "source": [
    "def get_data(users):\n",
    "    data = []\n",
    "    for user in users:\n",
    "        campaigns = [get_campaign_data() for _ in range(random.randint(2,8))]\n",
    "        data.append({'user': user, 'campaigns': campaigns})\n",
    "    \n",
    "    return data"
   ]
  },
  {
   "cell_type": "code",
   "execution_count": 52,
   "metadata": {},
   "outputs": [],
   "source": [
    "raw_data = get_data(users)"
   ]
  },
  {
   "cell_type": "code",
   "execution_count": 53,
   "metadata": {},
   "outputs": [
    {
     "data": {
      "text/plain": [
       "[{'cmp_name': 'BMX_20171106_20180721_20-30_B_USD',\n",
       "  'cmp_bgt': 130777,\n",
       "  'cmp_spent': 5627,\n",
       "  'cmp_clicks': 42132,\n",
       "  'cmp_impr': 499997,\n",
       "  'user': '{\"username\": \"bradley28\", \"name\": \"Dennis Rodriguez\", \"gender\": \"M\", \"email\": \"handrews@bullock.com\", \"age\": 20, \"address\": \"316 Rebecca Junction\\\\nNorth Tracyhaven, NV 88546\"}'},\n",
       " {'cmp_name': 'GRZ_20190118_20191121_35-60_B_EUR',\n",
       "  'cmp_bgt': 755156,\n",
       "  'cmp_spent': 507488,\n",
       "  'cmp_clicks': 11490,\n",
       "  'cmp_impr': 500000,\n",
       "  'user': '{\"username\": \"bradley28\", \"name\": \"Dennis Rodriguez\", \"gender\": \"M\", \"email\": \"handrews@bullock.com\", \"age\": 20, \"address\": \"316 Rebecca Junction\\\\nNorth Tracyhaven, NV 88546\"}'}]"
      ]
     },
     "execution_count": 53,
     "metadata": {},
     "output_type": "execute_result"
    }
   ],
   "source": [
    "data = []\n",
    "for datum in raw_data:\n",
    "    for campaign in datum['campaigns']:\n",
    "        campaign.update({'user': datum['user']})\n",
    "        data.append(campaign)\n",
    "        \n",
    "        \n",
    "data[:2]"
   ]
  },
  {
   "cell_type": "code",
   "execution_count": 54,
   "metadata": {},
   "outputs": [
    {
     "data": {
      "text/html": [
       "<div>\n",
       "<style scoped>\n",
       "    .dataframe tbody tr th:only-of-type {\n",
       "        vertical-align: middle;\n",
       "    }\n",
       "\n",
       "    .dataframe tbody tr th {\n",
       "        vertical-align: top;\n",
       "    }\n",
       "\n",
       "    .dataframe thead th {\n",
       "        text-align: right;\n",
       "    }\n",
       "</style>\n",
       "<table border=\"1\" class=\"dataframe\">\n",
       "  <thead>\n",
       "    <tr style=\"text-align: right;\">\n",
       "      <th></th>\n",
       "      <th>cmp_bgt</th>\n",
       "      <th>cmp_clicks</th>\n",
       "      <th>cmp_impr</th>\n",
       "      <th>cmp_name</th>\n",
       "      <th>cmp_spent</th>\n",
       "      <th>user</th>\n",
       "    </tr>\n",
       "  </thead>\n",
       "  <tbody>\n",
       "    <tr>\n",
       "      <th>0</th>\n",
       "      <td>130777</td>\n",
       "      <td>42132</td>\n",
       "      <td>499997</td>\n",
       "      <td>BMX_20171106_20180721_20-30_B_USD</td>\n",
       "      <td>5627</td>\n",
       "      <td>{\"username\": \"bradley28\", \"name\": \"Dennis Rodr...</td>\n",
       "    </tr>\n",
       "    <tr>\n",
       "      <th>1</th>\n",
       "      <td>755156</td>\n",
       "      <td>11490</td>\n",
       "      <td>500000</td>\n",
       "      <td>GRZ_20190118_20191121_35-60_B_EUR</td>\n",
       "      <td>507488</td>\n",
       "      <td>{\"username\": \"bradley28\", \"name\": \"Dennis Rodr...</td>\n",
       "    </tr>\n",
       "    <tr>\n",
       "      <th>2</th>\n",
       "      <td>909499</td>\n",
       "      <td>57347</td>\n",
       "      <td>499998</td>\n",
       "      <td>BMX_20190518_20210124_40-55_F_USD</td>\n",
       "      <td>391664</td>\n",
       "      <td>{\"username\": \"bradley28\", \"name\": \"Dennis Rodr...</td>\n",
       "    </tr>\n",
       "    <tr>\n",
       "      <th>3</th>\n",
       "      <td>440708</td>\n",
       "      <td>28488</td>\n",
       "      <td>500000</td>\n",
       "      <td>BMX_20171121_20180710_30-40_F_GBP</td>\n",
       "      <td>1372</td>\n",
       "      <td>{\"username\": \"bradley28\", \"name\": \"Dennis Rodr...</td>\n",
       "    </tr>\n",
       "    <tr>\n",
       "      <th>4</th>\n",
       "      <td>469229</td>\n",
       "      <td>19998</td>\n",
       "      <td>499997</td>\n",
       "      <td>KTR_20170718_20190407_40-45_M_GBP</td>\n",
       "      <td>135046</td>\n",
       "      <td>{\"username\": \"bradley28\", \"name\": \"Dennis Rodr...</td>\n",
       "    </tr>\n",
       "  </tbody>\n",
       "</table>\n",
       "</div>"
      ],
      "text/plain": [
       "   cmp_bgt  cmp_clicks  cmp_impr                           cmp_name  \\\n",
       "0   130777       42132    499997  BMX_20171106_20180721_20-30_B_USD   \n",
       "1   755156       11490    500000  GRZ_20190118_20191121_35-60_B_EUR   \n",
       "2   909499       57347    499998  BMX_20190518_20210124_40-55_F_USD   \n",
       "3   440708       28488    500000  BMX_20171121_20180710_30-40_F_GBP   \n",
       "4   469229       19998    499997  KTR_20170718_20190407_40-45_M_GBP   \n",
       "\n",
       "   cmp_spent                                               user  \n",
       "0       5627  {\"username\": \"bradley28\", \"name\": \"Dennis Rodr...  \n",
       "1     507488  {\"username\": \"bradley28\", \"name\": \"Dennis Rodr...  \n",
       "2     391664  {\"username\": \"bradley28\", \"name\": \"Dennis Rodr...  \n",
       "3       1372  {\"username\": \"bradley28\", \"name\": \"Dennis Rodr...  \n",
       "4     135046  {\"username\": \"bradley28\", \"name\": \"Dennis Rodr...  "
      ]
     },
     "execution_count": 54,
     "metadata": {},
     "output_type": "execute_result"
    }
   ],
   "source": [
    "df = DataFrame(data)\n",
    "df.head()"
   ]
  },
  {
   "cell_type": "code",
   "execution_count": 55,
   "metadata": {},
   "outputs": [
    {
     "data": {
      "text/plain": [
       "cmp_bgt       4993\n",
       "cmp_clicks    4993\n",
       "cmp_impr      4993\n",
       "cmp_name      4993\n",
       "cmp_spent     4993\n",
       "user          4993\n",
       "dtype: int64"
      ]
     },
     "execution_count": 55,
     "metadata": {},
     "output_type": "execute_result"
    }
   ],
   "source": [
    "df.count()"
   ]
  },
  {
   "cell_type": "code",
   "execution_count": 56,
   "metadata": {},
   "outputs": [
    {
     "data": {
      "text/html": [
       "<div>\n",
       "<style scoped>\n",
       "    .dataframe tbody tr th:only-of-type {\n",
       "        vertical-align: middle;\n",
       "    }\n",
       "\n",
       "    .dataframe tbody tr th {\n",
       "        vertical-align: top;\n",
       "    }\n",
       "\n",
       "    .dataframe thead th {\n",
       "        text-align: right;\n",
       "    }\n",
       "</style>\n",
       "<table border=\"1\" class=\"dataframe\">\n",
       "  <thead>\n",
       "    <tr style=\"text-align: right;\">\n",
       "      <th></th>\n",
       "      <th>cmp_bgt</th>\n",
       "      <th>cmp_clicks</th>\n",
       "      <th>cmp_impr</th>\n",
       "      <th>cmp_spent</th>\n",
       "    </tr>\n",
       "  </thead>\n",
       "  <tbody>\n",
       "    <tr>\n",
       "      <th>count</th>\n",
       "      <td>4993.000000</td>\n",
       "      <td>4993.000000</td>\n",
       "      <td>4993.000000</td>\n",
       "      <td>4993.000000</td>\n",
       "    </tr>\n",
       "    <tr>\n",
       "      <th>mean</th>\n",
       "      <td>498412.981574</td>\n",
       "      <td>39751.811937</td>\n",
       "      <td>499999.508712</td>\n",
       "      <td>249229.814340</td>\n",
       "    </tr>\n",
       "    <tr>\n",
       "      <th>std</th>\n",
       "      <td>288350.371396</td>\n",
       "      <td>21802.315623</td>\n",
       "      <td>2.023592</td>\n",
       "      <td>217212.315455</td>\n",
       "    </tr>\n",
       "    <tr>\n",
       "      <th>min</th>\n",
       "      <td>1014.000000</td>\n",
       "      <td>971.000000</td>\n",
       "      <td>499993.000000</td>\n",
       "      <td>117.000000</td>\n",
       "    </tr>\n",
       "    <tr>\n",
       "      <th>25%</th>\n",
       "      <td>251301.000000</td>\n",
       "      <td>21793.000000</td>\n",
       "      <td>499998.000000</td>\n",
       "      <td>69057.000000</td>\n",
       "    </tr>\n",
       "    <tr>\n",
       "      <th>50%</th>\n",
       "      <td>498640.000000</td>\n",
       "      <td>36434.000000</td>\n",
       "      <td>499999.000000</td>\n",
       "      <td>189142.000000</td>\n",
       "    </tr>\n",
       "    <tr>\n",
       "      <th>75%</th>\n",
       "      <td>745990.000000</td>\n",
       "      <td>55456.000000</td>\n",
       "      <td>500001.000000</td>\n",
       "      <td>379566.000000</td>\n",
       "    </tr>\n",
       "    <tr>\n",
       "      <th>max</th>\n",
       "      <td>999869.000000</td>\n",
       "      <td>99105.000000</td>\n",
       "      <td>500007.000000</td>\n",
       "      <td>991444.000000</td>\n",
       "    </tr>\n",
       "  </tbody>\n",
       "</table>\n",
       "</div>"
      ],
      "text/plain": [
       "             cmp_bgt    cmp_clicks       cmp_impr      cmp_spent\n",
       "count    4993.000000   4993.000000    4993.000000    4993.000000\n",
       "mean   498412.981574  39751.811937  499999.508712  249229.814340\n",
       "std    288350.371396  21802.315623       2.023592  217212.315455\n",
       "min      1014.000000    971.000000  499993.000000     117.000000\n",
       "25%    251301.000000  21793.000000  499998.000000   69057.000000\n",
       "50%    498640.000000  36434.000000  499999.000000  189142.000000\n",
       "75%    745990.000000  55456.000000  500001.000000  379566.000000\n",
       "max    999869.000000  99105.000000  500007.000000  991444.000000"
      ]
     },
     "execution_count": 56,
     "metadata": {},
     "output_type": "execute_result"
    }
   ],
   "source": [
    "df.describe()"
   ]
  },
  {
   "cell_type": "code",
   "execution_count": 58,
   "metadata": {},
   "outputs": [
    {
     "data": {
      "text/html": [
       "<div>\n",
       "<style scoped>\n",
       "    .dataframe tbody tr th:only-of-type {\n",
       "        vertical-align: middle;\n",
       "    }\n",
       "\n",
       "    .dataframe tbody tr th {\n",
       "        vertical-align: top;\n",
       "    }\n",
       "\n",
       "    .dataframe thead th {\n",
       "        text-align: right;\n",
       "    }\n",
       "</style>\n",
       "<table border=\"1\" class=\"dataframe\">\n",
       "  <thead>\n",
       "    <tr style=\"text-align: right;\">\n",
       "      <th></th>\n",
       "      <th>cmp_bgt</th>\n",
       "      <th>cmp_clicks</th>\n",
       "      <th>cmp_impr</th>\n",
       "      <th>cmp_name</th>\n",
       "      <th>cmp_spent</th>\n",
       "      <th>user</th>\n",
       "    </tr>\n",
       "  </thead>\n",
       "  <tbody>\n",
       "    <tr>\n",
       "      <th>412</th>\n",
       "      <td>999869</td>\n",
       "      <td>47081</td>\n",
       "      <td>500003</td>\n",
       "      <td>KTR_20190422_20200225_40-55_M_USD</td>\n",
       "      <td>529745</td>\n",
       "      <td>{\"username\": \"kerri56\", \"name\": \"Melissa Deleo...</td>\n",
       "    </tr>\n",
       "    <tr>\n",
       "      <th>3199</th>\n",
       "      <td>999682</td>\n",
       "      <td>40217</td>\n",
       "      <td>499999</td>\n",
       "      <td>BMX_20180608_20200415_25-45_F_EUR</td>\n",
       "      <td>408362</td>\n",
       "      <td>{\"username\": \"portermargaret\", \"name\": \"Charle...</td>\n",
       "    </tr>\n",
       "    <tr>\n",
       "      <th>3884</th>\n",
       "      <td>999467</td>\n",
       "      <td>35854</td>\n",
       "      <td>500000</td>\n",
       "      <td>KTR_20181217_20201124_40-60_B_GBP</td>\n",
       "      <td>633906</td>\n",
       "      <td>{\"username\": \"jeffrey24\", \"name\": \"Michael Luc...</td>\n",
       "    </tr>\n",
       "  </tbody>\n",
       "</table>\n",
       "</div>"
      ],
      "text/plain": [
       "      cmp_bgt  cmp_clicks  cmp_impr                           cmp_name  \\\n",
       "412    999869       47081    500003  KTR_20190422_20200225_40-55_M_USD   \n",
       "3199   999682       40217    499999  BMX_20180608_20200415_25-45_F_EUR   \n",
       "3884   999467       35854    500000  KTR_20181217_20201124_40-60_B_GBP   \n",
       "\n",
       "      cmp_spent                                               user  \n",
       "412      529745  {\"username\": \"kerri56\", \"name\": \"Melissa Deleo...  \n",
       "3199     408362  {\"username\": \"portermargaret\", \"name\": \"Charle...  \n",
       "3884     633906  {\"username\": \"jeffrey24\", \"name\": \"Michael Luc...  "
      ]
     },
     "execution_count": 58,
     "metadata": {},
     "output_type": "execute_result"
    }
   ],
   "source": [
    "df.sort_values(by=['cmp_bgt'], ascending=False).head(3)"
   ]
  },
  {
   "cell_type": "code",
   "execution_count": 62,
   "metadata": {},
   "outputs": [],
   "source": [
    "# Unpack campaign name into individual units\n",
    "def unpack_campaign_name(name):\n",
    "    type_,start,end,age,gender,currency = name.split('_')\n",
    "    start = parse(start).date\n",
    "    end = parse(end).date\n",
    "    return type_,start,end,age,gender, currency"
   ]
  },
  {
   "cell_type": "code",
   "execution_count": 63,
   "metadata": {},
   "outputs": [
    {
     "data": {
      "text/html": [
       "<div>\n",
       "<style scoped>\n",
       "    .dataframe tbody tr th:only-of-type {\n",
       "        vertical-align: middle;\n",
       "    }\n",
       "\n",
       "    .dataframe tbody tr th {\n",
       "        vertical-align: top;\n",
       "    }\n",
       "\n",
       "    .dataframe thead th {\n",
       "        text-align: right;\n",
       "    }\n",
       "</style>\n",
       "<table border=\"1\" class=\"dataframe\">\n",
       "  <thead>\n",
       "    <tr style=\"text-align: right;\">\n",
       "      <th></th>\n",
       "      <th>Type</th>\n",
       "      <th>Start</th>\n",
       "      <th>End</th>\n",
       "      <th>Age</th>\n",
       "      <th>Gender</th>\n",
       "      <th>Currency</th>\n",
       "    </tr>\n",
       "  </thead>\n",
       "  <tbody>\n",
       "    <tr>\n",
       "      <th>0</th>\n",
       "      <td>BMX</td>\n",
       "      <td>2017-06-11</td>\n",
       "      <td>2018-07-21</td>\n",
       "      <td>20-30</td>\n",
       "      <td>B</td>\n",
       "      <td>USD</td>\n",
       "    </tr>\n",
       "    <tr>\n",
       "      <th>1</th>\n",
       "      <td>GRZ</td>\n",
       "      <td>2019-01-18</td>\n",
       "      <td>2019-11-21</td>\n",
       "      <td>35-60</td>\n",
       "      <td>B</td>\n",
       "      <td>EUR</td>\n",
       "    </tr>\n",
       "    <tr>\n",
       "      <th>2</th>\n",
       "      <td>BMX</td>\n",
       "      <td>2019-05-18</td>\n",
       "      <td>2021-01-24</td>\n",
       "      <td>40-55</td>\n",
       "      <td>F</td>\n",
       "      <td>USD</td>\n",
       "    </tr>\n",
       "  </tbody>\n",
       "</table>\n",
       "</div>"
      ],
      "text/plain": [
       "  Type       Start         End    Age Gender Currency\n",
       "0  BMX  2017-06-11  2018-07-21  20-30      B      USD\n",
       "1  GRZ  2019-01-18  2019-11-21  35-60      B      EUR\n",
       "2  BMX  2019-05-18  2021-01-24  40-55      F      USD"
      ]
     },
     "execution_count": 63,
     "metadata": {},
     "output_type": "execute_result"
    }
   ],
   "source": [
    "campaign_data = df['cmp_name'].apply(unpack_campaign_name)\n",
    "campaign_cols = ['Type', 'Start', 'End', 'Age', 'Gender', 'Currency']\n",
    "campaign_df = DataFrame(campaign_data.tolist(), columns=campaign_cols, index=df.index)\n",
    "campaign_df.head(3)"
   ]
  },
  {
   "cell_type": "code",
   "execution_count": null,
   "metadata": {},
   "outputs": [],
   "source": []
  }
 ],
 "metadata": {
  "kernelspec": {
   "display_name": "Python 3",
   "language": "python",
   "name": "python3"
  },
  "language_info": {
   "codemirror_mode": {
    "name": "ipython",
    "version": 3
   },
   "file_extension": ".py",
   "mimetype": "text/x-python",
   "name": "python",
   "nbconvert_exporter": "python",
   "pygments_lexer": "ipython3",
   "version": "3.7.0"
  }
 },
 "nbformat": 4,
 "nbformat_minor": 2
}
