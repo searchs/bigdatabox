{
 "cells": [
  {
   "cell_type": "code",
   "execution_count": 4,
   "id": "dce754ab",
   "metadata": {},
   "outputs": [],
   "source": [
    "import quandl"
   ]
  },
  {
   "cell_type": "code",
   "execution_count": 3,
   "id": "1f3cf11b",
   "metadata": {},
   "outputs": [],
   "source": []
  },
  {
   "cell_type": "code",
   "execution_count": 5,
   "id": "0e9fee36",
   "metadata": {},
   "outputs": [],
   "source": [
    "aapl = quandl.get(\"WIKI/AAPL\", start_date=\"2012-10-01\", end_date=\"2017-01-01\")"
   ]
  },
  {
   "cell_type": "code",
   "execution_count": 6,
   "id": "8797fb2c",
   "metadata": {},
   "outputs": [
    {
     "data": {
      "text/plain": [
       "pandas.core.frame.DataFrame"
      ]
     },
     "execution_count": 6,
     "metadata": {},
     "output_type": "execute_result"
    }
   ],
   "source": [
    "type(aapl)"
   ]
  },
  {
   "cell_type": "code",
   "execution_count": 7,
   "id": "59bc03e4",
   "metadata": {},
   "outputs": [],
   "source": [
    "aapl_numpy_array = quandl.get(\"WIKI/AAPL\", start_date=\"2012-10-01\", end_date=\"2017-01-01\", returns=\"numpy\")"
   ]
  },
  {
   "cell_type": "code",
   "execution_count": 8,
   "id": "f3ba5665",
   "metadata": {},
   "outputs": [
    {
     "data": {
      "text/plain": [
       "numpy.recarray"
      ]
     },
     "execution_count": 8,
     "metadata": {},
     "output_type": "execute_result"
    }
   ],
   "source": [
    "type(aapl_numpy_array)"
   ]
  },
  {
   "cell_type": "code",
   "execution_count": 9,
   "id": "92e4f8ed",
   "metadata": {},
   "outputs": [
    {
     "data": {
      "text/html": [
       "<div>\n",
       "<style scoped>\n",
       "    .dataframe tbody tr th:only-of-type {\n",
       "        vertical-align: middle;\n",
       "    }\n",
       "\n",
       "    .dataframe tbody tr th {\n",
       "        vertical-align: top;\n",
       "    }\n",
       "\n",
       "    .dataframe thead th {\n",
       "        text-align: right;\n",
       "    }\n",
       "</style>\n",
       "<table border=\"1\" class=\"dataframe\">\n",
       "  <thead>\n",
       "    <tr style=\"text-align: right;\">\n",
       "      <th></th>\n",
       "      <th>Open</th>\n",
       "      <th>High</th>\n",
       "      <th>Low</th>\n",
       "      <th>Close</th>\n",
       "      <th>Volume</th>\n",
       "      <th>Ex-Dividend</th>\n",
       "      <th>Split Ratio</th>\n",
       "      <th>Adj. Open</th>\n",
       "      <th>Adj. High</th>\n",
       "      <th>Adj. Low</th>\n",
       "      <th>Adj. Close</th>\n",
       "      <th>Adj. Volume</th>\n",
       "    </tr>\n",
       "    <tr>\n",
       "      <th>Date</th>\n",
       "      <th></th>\n",
       "      <th></th>\n",
       "      <th></th>\n",
       "      <th></th>\n",
       "      <th></th>\n",
       "      <th></th>\n",
       "      <th></th>\n",
       "      <th></th>\n",
       "      <th></th>\n",
       "      <th></th>\n",
       "      <th></th>\n",
       "      <th></th>\n",
       "    </tr>\n",
       "  </thead>\n",
       "  <tbody>\n",
       "    <tr>\n",
       "      <th>2012-10-01</th>\n",
       "      <td>671.50</td>\n",
       "      <td>676.75</td>\n",
       "      <td>656.50</td>\n",
       "      <td>659.39</td>\n",
       "      <td>19414100.0</td>\n",
       "      <td>0.0</td>\n",
       "      <td>1.0</td>\n",
       "      <td>86.665526</td>\n",
       "      <td>87.343104</td>\n",
       "      <td>84.729587</td>\n",
       "      <td>85.102578</td>\n",
       "      <td>135898700.0</td>\n",
       "    </tr>\n",
       "    <tr>\n",
       "      <th>2012-10-02</th>\n",
       "      <td>661.81</td>\n",
       "      <td>666.35</td>\n",
       "      <td>650.65</td>\n",
       "      <td>661.31</td>\n",
       "      <td>22428300.0</td>\n",
       "      <td>0.0</td>\n",
       "      <td>1.0</td>\n",
       "      <td>85.414909</td>\n",
       "      <td>86.000854</td>\n",
       "      <td>83.974571</td>\n",
       "      <td>85.350378</td>\n",
       "      <td>156998100.0</td>\n",
       "    </tr>\n",
       "    <tr>\n",
       "      <th>2012-10-03</th>\n",
       "      <td>664.86</td>\n",
       "      <td>671.86</td>\n",
       "      <td>662.63</td>\n",
       "      <td>671.45</td>\n",
       "      <td>15152900.0</td>\n",
       "      <td>0.0</td>\n",
       "      <td>1.0</td>\n",
       "      <td>85.808550</td>\n",
       "      <td>86.711988</td>\n",
       "      <td>85.520741</td>\n",
       "      <td>86.659073</td>\n",
       "      <td>106070300.0</td>\n",
       "    </tr>\n",
       "    <tr>\n",
       "      <th>2012-10-04</th>\n",
       "      <td>671.25</td>\n",
       "      <td>674.25</td>\n",
       "      <td>665.55</td>\n",
       "      <td>666.80</td>\n",
       "      <td>13240200.0</td>\n",
       "      <td>0.0</td>\n",
       "      <td>1.0</td>\n",
       "      <td>86.633260</td>\n",
       "      <td>87.020448</td>\n",
       "      <td>85.897604</td>\n",
       "      <td>86.058932</td>\n",
       "      <td>92681400.0</td>\n",
       "    </tr>\n",
       "    <tr>\n",
       "      <th>2012-10-05</th>\n",
       "      <td>665.20</td>\n",
       "      <td>666.00</td>\n",
       "      <td>651.28</td>\n",
       "      <td>652.59</td>\n",
       "      <td>21214500.0</td>\n",
       "      <td>0.0</td>\n",
       "      <td>1.0</td>\n",
       "      <td>85.852432</td>\n",
       "      <td>85.955682</td>\n",
       "      <td>84.055880</td>\n",
       "      <td>84.224952</td>\n",
       "      <td>148501500.0</td>\n",
       "    </tr>\n",
       "  </tbody>\n",
       "</table>\n",
       "</div>"
      ],
      "text/plain": [
       "              Open    High     Low   Close      Volume  Ex-Dividend  \\\n",
       "Date                                                                  \n",
       "2012-10-01  671.50  676.75  656.50  659.39  19414100.0          0.0   \n",
       "2012-10-02  661.81  666.35  650.65  661.31  22428300.0          0.0   \n",
       "2012-10-03  664.86  671.86  662.63  671.45  15152900.0          0.0   \n",
       "2012-10-04  671.25  674.25  665.55  666.80  13240200.0          0.0   \n",
       "2012-10-05  665.20  666.00  651.28  652.59  21214500.0          0.0   \n",
       "\n",
       "            Split Ratio  Adj. Open  Adj. High   Adj. Low  Adj. Close  \\\n",
       "Date                                                                   \n",
       "2012-10-01          1.0  86.665526  87.343104  84.729587   85.102578   \n",
       "2012-10-02          1.0  85.414909  86.000854  83.974571   85.350378   \n",
       "2012-10-03          1.0  85.808550  86.711988  85.520741   86.659073   \n",
       "2012-10-04          1.0  86.633260  87.020448  85.897604   86.058932   \n",
       "2012-10-05          1.0  85.852432  85.955682  84.055880   84.224952   \n",
       "\n",
       "            Adj. Volume  \n",
       "Date                     \n",
       "2012-10-01  135898700.0  \n",
       "2012-10-02  156998100.0  \n",
       "2012-10-03  106070300.0  \n",
       "2012-10-04   92681400.0  \n",
       "2012-10-05  148501500.0  "
      ]
     },
     "execution_count": 9,
     "metadata": {},
     "output_type": "execute_result"
    }
   ],
   "source": [
    "aapl.head()"
   ]
  },
  {
   "cell_type": "code",
   "execution_count": 10,
   "id": "38e0aeed",
   "metadata": {},
   "outputs": [
    {
     "data": {
      "text/html": [
       "<div>\n",
       "<style scoped>\n",
       "    .dataframe tbody tr th:only-of-type {\n",
       "        vertical-align: middle;\n",
       "    }\n",
       "\n",
       "    .dataframe tbody tr th {\n",
       "        vertical-align: top;\n",
       "    }\n",
       "\n",
       "    .dataframe thead th {\n",
       "        text-align: right;\n",
       "    }\n",
       "</style>\n",
       "<table border=\"1\" class=\"dataframe\">\n",
       "  <thead>\n",
       "    <tr style=\"text-align: right;\">\n",
       "      <th></th>\n",
       "      <th>Open</th>\n",
       "      <th>High</th>\n",
       "      <th>Low</th>\n",
       "      <th>Close</th>\n",
       "      <th>Volume</th>\n",
       "      <th>Ex-Dividend</th>\n",
       "      <th>Split Ratio</th>\n",
       "      <th>Adj. Open</th>\n",
       "      <th>Adj. High</th>\n",
       "      <th>Adj. Low</th>\n",
       "      <th>Adj. Close</th>\n",
       "      <th>Adj. Volume</th>\n",
       "    </tr>\n",
       "    <tr>\n",
       "      <th>Date</th>\n",
       "      <th></th>\n",
       "      <th></th>\n",
       "      <th></th>\n",
       "      <th></th>\n",
       "      <th></th>\n",
       "      <th></th>\n",
       "      <th></th>\n",
       "      <th></th>\n",
       "      <th></th>\n",
       "      <th></th>\n",
       "      <th></th>\n",
       "      <th></th>\n",
       "    </tr>\n",
       "  </thead>\n",
       "  <tbody>\n",
       "    <tr>\n",
       "      <th>2016-12-23</th>\n",
       "      <td>115.59</td>\n",
       "      <td>116.5200</td>\n",
       "      <td>115.59</td>\n",
       "      <td>116.52</td>\n",
       "      <td>14249484.0</td>\n",
       "      <td>0.0</td>\n",
       "      <td>1.0</td>\n",
       "      <td>114.162295</td>\n",
       "      <td>115.080808</td>\n",
       "      <td>114.162295</td>\n",
       "      <td>115.080808</td>\n",
       "      <td>14249484.0</td>\n",
       "    </tr>\n",
       "    <tr>\n",
       "      <th>2016-12-27</th>\n",
       "      <td>116.52</td>\n",
       "      <td>117.8000</td>\n",
       "      <td>116.49</td>\n",
       "      <td>117.26</td>\n",
       "      <td>18296855.0</td>\n",
       "      <td>0.0</td>\n",
       "      <td>1.0</td>\n",
       "      <td>115.080808</td>\n",
       "      <td>116.344998</td>\n",
       "      <td>115.051178</td>\n",
       "      <td>115.811668</td>\n",
       "      <td>18296855.0</td>\n",
       "    </tr>\n",
       "    <tr>\n",
       "      <th>2016-12-28</th>\n",
       "      <td>117.52</td>\n",
       "      <td>118.0166</td>\n",
       "      <td>116.20</td>\n",
       "      <td>116.76</td>\n",
       "      <td>20905892.0</td>\n",
       "      <td>0.0</td>\n",
       "      <td>1.0</td>\n",
       "      <td>116.068456</td>\n",
       "      <td>116.558923</td>\n",
       "      <td>114.764760</td>\n",
       "      <td>115.317843</td>\n",
       "      <td>20905892.0</td>\n",
       "    </tr>\n",
       "    <tr>\n",
       "      <th>2016-12-29</th>\n",
       "      <td>116.45</td>\n",
       "      <td>117.1095</td>\n",
       "      <td>116.40</td>\n",
       "      <td>116.73</td>\n",
       "      <td>15039519.0</td>\n",
       "      <td>0.0</td>\n",
       "      <td>1.0</td>\n",
       "      <td>115.011672</td>\n",
       "      <td>115.663027</td>\n",
       "      <td>114.962290</td>\n",
       "      <td>115.288214</td>\n",
       "      <td>15039519.0</td>\n",
       "    </tr>\n",
       "    <tr>\n",
       "      <th>2016-12-30</th>\n",
       "      <td>116.65</td>\n",
       "      <td>117.2000</td>\n",
       "      <td>115.43</td>\n",
       "      <td>115.82</td>\n",
       "      <td>30586265.0</td>\n",
       "      <td>0.0</td>\n",
       "      <td>1.0</td>\n",
       "      <td>115.209202</td>\n",
       "      <td>115.752409</td>\n",
       "      <td>114.004271</td>\n",
       "      <td>114.389454</td>\n",
       "      <td>30586265.0</td>\n",
       "    </tr>\n",
       "  </tbody>\n",
       "</table>\n",
       "</div>"
      ],
      "text/plain": [
       "              Open      High     Low   Close      Volume  Ex-Dividend  \\\n",
       "Date                                                                    \n",
       "2016-12-23  115.59  116.5200  115.59  116.52  14249484.0          0.0   \n",
       "2016-12-27  116.52  117.8000  116.49  117.26  18296855.0          0.0   \n",
       "2016-12-28  117.52  118.0166  116.20  116.76  20905892.0          0.0   \n",
       "2016-12-29  116.45  117.1095  116.40  116.73  15039519.0          0.0   \n",
       "2016-12-30  116.65  117.2000  115.43  115.82  30586265.0          0.0   \n",
       "\n",
       "            Split Ratio   Adj. Open   Adj. High    Adj. Low  Adj. Close  \\\n",
       "Date                                                                      \n",
       "2016-12-23          1.0  114.162295  115.080808  114.162295  115.080808   \n",
       "2016-12-27          1.0  115.080808  116.344998  115.051178  115.811668   \n",
       "2016-12-28          1.0  116.068456  116.558923  114.764760  115.317843   \n",
       "2016-12-29          1.0  115.011672  115.663027  114.962290  115.288214   \n",
       "2016-12-30          1.0  115.209202  115.752409  114.004271  114.389454   \n",
       "\n",
       "            Adj. Volume  \n",
       "Date                     \n",
       "2016-12-23   14249484.0  \n",
       "2016-12-27   18296855.0  \n",
       "2016-12-28   20905892.0  \n",
       "2016-12-29   15039519.0  \n",
       "2016-12-30   30586265.0  "
      ]
     },
     "execution_count": 10,
     "metadata": {},
     "output_type": "execute_result"
    }
   ],
   "source": [
    "aapl.tail()"
   ]
  },
  {
   "cell_type": "code",
   "execution_count": 88,
   "id": "ee45bd1e",
   "metadata": {},
   "outputs": [],
   "source": [
    "fb = quandl.get(\"WIKI/FB\", start_date=\"2012-10-01\", end_date=\"2018-01-01\", collapse=\"daily\")"
   ]
  },
  {
   "cell_type": "code",
   "execution_count": 89,
   "id": "4b61ce4c",
   "metadata": {},
   "outputs": [
    {
     "data": {
      "text/html": [
       "<div>\n",
       "<style scoped>\n",
       "    .dataframe tbody tr th:only-of-type {\n",
       "        vertical-align: middle;\n",
       "    }\n",
       "\n",
       "    .dataframe tbody tr th {\n",
       "        vertical-align: top;\n",
       "    }\n",
       "\n",
       "    .dataframe thead th {\n",
       "        text-align: right;\n",
       "    }\n",
       "</style>\n",
       "<table border=\"1\" class=\"dataframe\">\n",
       "  <thead>\n",
       "    <tr style=\"text-align: right;\">\n",
       "      <th></th>\n",
       "      <th>Open</th>\n",
       "      <th>High</th>\n",
       "      <th>Low</th>\n",
       "      <th>Close</th>\n",
       "      <th>Volume</th>\n",
       "      <th>Ex-Dividend</th>\n",
       "      <th>Split Ratio</th>\n",
       "      <th>Adj. Open</th>\n",
       "      <th>Adj. High</th>\n",
       "      <th>Adj. Low</th>\n",
       "      <th>Adj. Close</th>\n",
       "      <th>Adj. Volume</th>\n",
       "    </tr>\n",
       "    <tr>\n",
       "      <th>Date</th>\n",
       "      <th></th>\n",
       "      <th></th>\n",
       "      <th></th>\n",
       "      <th></th>\n",
       "      <th></th>\n",
       "      <th></th>\n",
       "      <th></th>\n",
       "      <th></th>\n",
       "      <th></th>\n",
       "      <th></th>\n",
       "      <th></th>\n",
       "      <th></th>\n",
       "    </tr>\n",
       "  </thead>\n",
       "  <tbody>\n",
       "    <tr>\n",
       "      <th>2012-10-01</th>\n",
       "      <td>22.080</td>\n",
       "      <td>22.59</td>\n",
       "      <td>21.73</td>\n",
       "      <td>21.9900</td>\n",
       "      <td>51262700.0</td>\n",
       "      <td>0.0</td>\n",
       "      <td>1.0</td>\n",
       "      <td>22.080</td>\n",
       "      <td>22.59</td>\n",
       "      <td>21.73</td>\n",
       "      <td>21.9900</td>\n",
       "      <td>51262700.0</td>\n",
       "    </tr>\n",
       "    <tr>\n",
       "      <th>2012-10-02</th>\n",
       "      <td>22.080</td>\n",
       "      <td>22.49</td>\n",
       "      <td>21.82</td>\n",
       "      <td>22.2700</td>\n",
       "      <td>29341400.0</td>\n",
       "      <td>0.0</td>\n",
       "      <td>1.0</td>\n",
       "      <td>22.080</td>\n",
       "      <td>22.49</td>\n",
       "      <td>21.82</td>\n",
       "      <td>22.2700</td>\n",
       "      <td>29341400.0</td>\n",
       "    </tr>\n",
       "    <tr>\n",
       "      <th>2012-10-03</th>\n",
       "      <td>22.295</td>\n",
       "      <td>22.49</td>\n",
       "      <td>21.80</td>\n",
       "      <td>21.8300</td>\n",
       "      <td>32000100.0</td>\n",
       "      <td>0.0</td>\n",
       "      <td>1.0</td>\n",
       "      <td>22.295</td>\n",
       "      <td>22.49</td>\n",
       "      <td>21.80</td>\n",
       "      <td>21.8300</td>\n",
       "      <td>32000100.0</td>\n",
       "    </tr>\n",
       "    <tr>\n",
       "      <th>2012-10-04</th>\n",
       "      <td>22.320</td>\n",
       "      <td>22.40</td>\n",
       "      <td>21.41</td>\n",
       "      <td>21.9475</td>\n",
       "      <td>46892100.0</td>\n",
       "      <td>0.0</td>\n",
       "      <td>1.0</td>\n",
       "      <td>22.320</td>\n",
       "      <td>22.40</td>\n",
       "      <td>21.41</td>\n",
       "      <td>21.9475</td>\n",
       "      <td>46892100.0</td>\n",
       "    </tr>\n",
       "    <tr>\n",
       "      <th>2012-10-05</th>\n",
       "      <td>21.490</td>\n",
       "      <td>21.63</td>\n",
       "      <td>20.88</td>\n",
       "      <td>20.9100</td>\n",
       "      <td>40529300.0</td>\n",
       "      <td>0.0</td>\n",
       "      <td>1.0</td>\n",
       "      <td>21.490</td>\n",
       "      <td>21.63</td>\n",
       "      <td>20.88</td>\n",
       "      <td>20.9100</td>\n",
       "      <td>40529300.0</td>\n",
       "    </tr>\n",
       "  </tbody>\n",
       "</table>\n",
       "</div>"
      ],
      "text/plain": [
       "              Open   High    Low    Close      Volume  Ex-Dividend  \\\n",
       "Date                                                                 \n",
       "2012-10-01  22.080  22.59  21.73  21.9900  51262700.0          0.0   \n",
       "2012-10-02  22.080  22.49  21.82  22.2700  29341400.0          0.0   \n",
       "2012-10-03  22.295  22.49  21.80  21.8300  32000100.0          0.0   \n",
       "2012-10-04  22.320  22.40  21.41  21.9475  46892100.0          0.0   \n",
       "2012-10-05  21.490  21.63  20.88  20.9100  40529300.0          0.0   \n",
       "\n",
       "            Split Ratio  Adj. Open  Adj. High  Adj. Low  Adj. Close  \\\n",
       "Date                                                                  \n",
       "2012-10-01          1.0     22.080      22.59     21.73     21.9900   \n",
       "2012-10-02          1.0     22.080      22.49     21.82     22.2700   \n",
       "2012-10-03          1.0     22.295      22.49     21.80     21.8300   \n",
       "2012-10-04          1.0     22.320      22.40     21.41     21.9475   \n",
       "2012-10-05          1.0     21.490      21.63     20.88     20.9100   \n",
       "\n",
       "            Adj. Volume  \n",
       "Date                     \n",
       "2012-10-01   51262700.0  \n",
       "2012-10-02   29341400.0  \n",
       "2012-10-03   32000100.0  \n",
       "2012-10-04   46892100.0  \n",
       "2012-10-05   40529300.0  "
      ]
     },
     "execution_count": 89,
     "metadata": {},
     "output_type": "execute_result"
    }
   ],
   "source": [
    "fb.head()"
   ]
  },
  {
   "cell_type": "code",
   "execution_count": 90,
   "id": "6f8b80e5",
   "metadata": {},
   "outputs": [
    {
     "data": {
      "text/html": [
       "<div>\n",
       "<style scoped>\n",
       "    .dataframe tbody tr th:only-of-type {\n",
       "        vertical-align: middle;\n",
       "    }\n",
       "\n",
       "    .dataframe tbody tr th {\n",
       "        vertical-align: top;\n",
       "    }\n",
       "\n",
       "    .dataframe thead th {\n",
       "        text-align: right;\n",
       "    }\n",
       "</style>\n",
       "<table border=\"1\" class=\"dataframe\">\n",
       "  <thead>\n",
       "    <tr style=\"text-align: right;\">\n",
       "      <th></th>\n",
       "      <th>Open</th>\n",
       "      <th>High</th>\n",
       "      <th>Low</th>\n",
       "      <th>Close</th>\n",
       "      <th>Volume</th>\n",
       "      <th>Ex-Dividend</th>\n",
       "      <th>Split Ratio</th>\n",
       "      <th>Adj. Open</th>\n",
       "      <th>Adj. High</th>\n",
       "      <th>Adj. Low</th>\n",
       "      <th>Adj. Close</th>\n",
       "      <th>Adj. Volume</th>\n",
       "    </tr>\n",
       "    <tr>\n",
       "      <th>Date</th>\n",
       "      <th></th>\n",
       "      <th></th>\n",
       "      <th></th>\n",
       "      <th></th>\n",
       "      <th></th>\n",
       "      <th></th>\n",
       "      <th></th>\n",
       "      <th></th>\n",
       "      <th></th>\n",
       "      <th></th>\n",
       "      <th></th>\n",
       "      <th></th>\n",
       "    </tr>\n",
       "  </thead>\n",
       "  <tbody>\n",
       "    <tr>\n",
       "      <th>2017-12-22</th>\n",
       "      <td>177.14</td>\n",
       "      <td>177.5300</td>\n",
       "      <td>176.23</td>\n",
       "      <td>177.20</td>\n",
       "      <td>8462491.0</td>\n",
       "      <td>0.0</td>\n",
       "      <td>1.0</td>\n",
       "      <td>177.14</td>\n",
       "      <td>177.5300</td>\n",
       "      <td>176.23</td>\n",
       "      <td>177.20</td>\n",
       "      <td>8462491.0</td>\n",
       "    </tr>\n",
       "    <tr>\n",
       "      <th>2017-12-26</th>\n",
       "      <td>176.63</td>\n",
       "      <td>177.0000</td>\n",
       "      <td>174.67</td>\n",
       "      <td>175.99</td>\n",
       "      <td>8726829.0</td>\n",
       "      <td>0.0</td>\n",
       "      <td>1.0</td>\n",
       "      <td>176.63</td>\n",
       "      <td>177.0000</td>\n",
       "      <td>174.67</td>\n",
       "      <td>175.99</td>\n",
       "      <td>8726829.0</td>\n",
       "    </tr>\n",
       "    <tr>\n",
       "      <th>2017-12-27</th>\n",
       "      <td>176.55</td>\n",
       "      <td>178.4400</td>\n",
       "      <td>176.26</td>\n",
       "      <td>177.62</td>\n",
       "      <td>9296258.0</td>\n",
       "      <td>0.0</td>\n",
       "      <td>1.0</td>\n",
       "      <td>176.55</td>\n",
       "      <td>178.4400</td>\n",
       "      <td>176.26</td>\n",
       "      <td>177.62</td>\n",
       "      <td>9296258.0</td>\n",
       "    </tr>\n",
       "    <tr>\n",
       "      <th>2017-12-28</th>\n",
       "      <td>177.95</td>\n",
       "      <td>178.9367</td>\n",
       "      <td>177.68</td>\n",
       "      <td>177.92</td>\n",
       "      <td>11008996.0</td>\n",
       "      <td>0.0</td>\n",
       "      <td>1.0</td>\n",
       "      <td>177.95</td>\n",
       "      <td>178.9367</td>\n",
       "      <td>177.68</td>\n",
       "      <td>177.92</td>\n",
       "      <td>11008996.0</td>\n",
       "    </tr>\n",
       "    <tr>\n",
       "      <th>2017-12-29</th>\n",
       "      <td>178.00</td>\n",
       "      <td>178.8500</td>\n",
       "      <td>176.46</td>\n",
       "      <td>176.46</td>\n",
       "      <td>10028758.0</td>\n",
       "      <td>0.0</td>\n",
       "      <td>1.0</td>\n",
       "      <td>178.00</td>\n",
       "      <td>178.8500</td>\n",
       "      <td>176.46</td>\n",
       "      <td>176.46</td>\n",
       "      <td>10028758.0</td>\n",
       "    </tr>\n",
       "  </tbody>\n",
       "</table>\n",
       "</div>"
      ],
      "text/plain": [
       "              Open      High     Low   Close      Volume  Ex-Dividend  \\\n",
       "Date                                                                    \n",
       "2017-12-22  177.14  177.5300  176.23  177.20   8462491.0          0.0   \n",
       "2017-12-26  176.63  177.0000  174.67  175.99   8726829.0          0.0   \n",
       "2017-12-27  176.55  178.4400  176.26  177.62   9296258.0          0.0   \n",
       "2017-12-28  177.95  178.9367  177.68  177.92  11008996.0          0.0   \n",
       "2017-12-29  178.00  178.8500  176.46  176.46  10028758.0          0.0   \n",
       "\n",
       "            Split Ratio  Adj. Open  Adj. High  Adj. Low  Adj. Close  \\\n",
       "Date                                                                  \n",
       "2017-12-22          1.0     177.14   177.5300    176.23      177.20   \n",
       "2017-12-26          1.0     176.63   177.0000    174.67      175.99   \n",
       "2017-12-27          1.0     176.55   178.4400    176.26      177.62   \n",
       "2017-12-28          1.0     177.95   178.9367    177.68      177.92   \n",
       "2017-12-29          1.0     178.00   178.8500    176.46      176.46   \n",
       "\n",
       "            Adj. Volume  \n",
       "Date                     \n",
       "2017-12-22    8462491.0  \n",
       "2017-12-26    8726829.0  \n",
       "2017-12-27    9296258.0  \n",
       "2017-12-28   11008996.0  \n",
       "2017-12-29   10028758.0  "
      ]
     },
     "execution_count": 90,
     "metadata": {},
     "output_type": "execute_result"
    }
   ],
   "source": [
    "fb.tail()"
   ]
  },
  {
   "cell_type": "markdown",
   "id": "8440a0e8",
   "metadata": {},
   "source": [
    "### Using Pandas"
   ]
  },
  {
   "cell_type": "code",
   "execution_count": 91,
   "id": "79fba4bc",
   "metadata": {},
   "outputs": [],
   "source": [
    "import pandas as pd"
   ]
  },
  {
   "cell_type": "code",
   "execution_count": 92,
   "id": "10a974ee",
   "metadata": {},
   "outputs": [],
   "source": [
    "# help(fb.to_csv)\n",
    "fb.to_csv(\"WIKI-FB.csv\")\n"
   ]
  },
  {
   "cell_type": "code",
   "execution_count": 93,
   "id": "58f2fa81",
   "metadata": {},
   "outputs": [],
   "source": [
    "aapl.to_csv(\"WIKI-AAPL.csv\")"
   ]
  },
  {
   "cell_type": "code",
   "execution_count": 94,
   "id": "775afb27",
   "metadata": {},
   "outputs": [],
   "source": [
    "fb_df = pd.read_csv(\"WIKI-FB.csv\")"
   ]
  },
  {
   "cell_type": "code",
   "execution_count": 95,
   "id": "8329926a",
   "metadata": {},
   "outputs": [],
   "source": [
    "import matplotlib.pyplot as plt"
   ]
  },
  {
   "cell_type": "code",
   "execution_count": 96,
   "id": "bd059c23",
   "metadata": {},
   "outputs": [
    {
     "data": {
      "text/plain": [
       "pandas.core.frame.DataFrame"
      ]
     },
     "execution_count": 96,
     "metadata": {},
     "output_type": "execute_result"
    }
   ],
   "source": [
    "type(fb_df)"
   ]
  },
  {
   "cell_type": "code",
   "execution_count": 97,
   "id": "2f967c78",
   "metadata": {},
   "outputs": [
    {
     "data": {
      "text/html": [
       "<div>\n",
       "<style scoped>\n",
       "    .dataframe tbody tr th:only-of-type {\n",
       "        vertical-align: middle;\n",
       "    }\n",
       "\n",
       "    .dataframe tbody tr th {\n",
       "        vertical-align: top;\n",
       "    }\n",
       "\n",
       "    .dataframe thead th {\n",
       "        text-align: right;\n",
       "    }\n",
       "</style>\n",
       "<table border=\"1\" class=\"dataframe\">\n",
       "  <thead>\n",
       "    <tr style=\"text-align: right;\">\n",
       "      <th></th>\n",
       "      <th>Date</th>\n",
       "      <th>Open</th>\n",
       "      <th>High</th>\n",
       "      <th>Low</th>\n",
       "      <th>Close</th>\n",
       "      <th>Volume</th>\n",
       "      <th>Ex-Dividend</th>\n",
       "      <th>Split Ratio</th>\n",
       "      <th>Adj. Open</th>\n",
       "      <th>Adj. High</th>\n",
       "      <th>Adj. Low</th>\n",
       "      <th>Adj. Close</th>\n",
       "      <th>Adj. Volume</th>\n",
       "    </tr>\n",
       "  </thead>\n",
       "  <tbody>\n",
       "    <tr>\n",
       "      <th>0</th>\n",
       "      <td>2012-10-01</td>\n",
       "      <td>22.080</td>\n",
       "      <td>22.59</td>\n",
       "      <td>21.73</td>\n",
       "      <td>21.9900</td>\n",
       "      <td>51262700.0</td>\n",
       "      <td>0.0</td>\n",
       "      <td>1.0</td>\n",
       "      <td>22.080</td>\n",
       "      <td>22.59</td>\n",
       "      <td>21.73</td>\n",
       "      <td>21.9900</td>\n",
       "      <td>51262700.0</td>\n",
       "    </tr>\n",
       "    <tr>\n",
       "      <th>1</th>\n",
       "      <td>2012-10-02</td>\n",
       "      <td>22.080</td>\n",
       "      <td>22.49</td>\n",
       "      <td>21.82</td>\n",
       "      <td>22.2700</td>\n",
       "      <td>29341400.0</td>\n",
       "      <td>0.0</td>\n",
       "      <td>1.0</td>\n",
       "      <td>22.080</td>\n",
       "      <td>22.49</td>\n",
       "      <td>21.82</td>\n",
       "      <td>22.2700</td>\n",
       "      <td>29341400.0</td>\n",
       "    </tr>\n",
       "    <tr>\n",
       "      <th>2</th>\n",
       "      <td>2012-10-03</td>\n",
       "      <td>22.295</td>\n",
       "      <td>22.49</td>\n",
       "      <td>21.80</td>\n",
       "      <td>21.8300</td>\n",
       "      <td>32000100.0</td>\n",
       "      <td>0.0</td>\n",
       "      <td>1.0</td>\n",
       "      <td>22.295</td>\n",
       "      <td>22.49</td>\n",
       "      <td>21.80</td>\n",
       "      <td>21.8300</td>\n",
       "      <td>32000100.0</td>\n",
       "    </tr>\n",
       "    <tr>\n",
       "      <th>3</th>\n",
       "      <td>2012-10-04</td>\n",
       "      <td>22.320</td>\n",
       "      <td>22.40</td>\n",
       "      <td>21.41</td>\n",
       "      <td>21.9475</td>\n",
       "      <td>46892100.0</td>\n",
       "      <td>0.0</td>\n",
       "      <td>1.0</td>\n",
       "      <td>22.320</td>\n",
       "      <td>22.40</td>\n",
       "      <td>21.41</td>\n",
       "      <td>21.9475</td>\n",
       "      <td>46892100.0</td>\n",
       "    </tr>\n",
       "    <tr>\n",
       "      <th>4</th>\n",
       "      <td>2012-10-05</td>\n",
       "      <td>21.490</td>\n",
       "      <td>21.63</td>\n",
       "      <td>20.88</td>\n",
       "      <td>20.9100</td>\n",
       "      <td>40529300.0</td>\n",
       "      <td>0.0</td>\n",
       "      <td>1.0</td>\n",
       "      <td>21.490</td>\n",
       "      <td>21.63</td>\n",
       "      <td>20.88</td>\n",
       "      <td>20.9100</td>\n",
       "      <td>40529300.0</td>\n",
       "    </tr>\n",
       "  </tbody>\n",
       "</table>\n",
       "</div>"
      ],
      "text/plain": [
       "         Date    Open   High    Low    Close      Volume  Ex-Dividend  \\\n",
       "0  2012-10-01  22.080  22.59  21.73  21.9900  51262700.0          0.0   \n",
       "1  2012-10-02  22.080  22.49  21.82  22.2700  29341400.0          0.0   \n",
       "2  2012-10-03  22.295  22.49  21.80  21.8300  32000100.0          0.0   \n",
       "3  2012-10-04  22.320  22.40  21.41  21.9475  46892100.0          0.0   \n",
       "4  2012-10-05  21.490  21.63  20.88  20.9100  40529300.0          0.0   \n",
       "\n",
       "   Split Ratio  Adj. Open  Adj. High  Adj. Low  Adj. Close  Adj. Volume  \n",
       "0          1.0     22.080      22.59     21.73     21.9900   51262700.0  \n",
       "1          1.0     22.080      22.49     21.82     22.2700   29341400.0  \n",
       "2          1.0     22.295      22.49     21.80     21.8300   32000100.0  \n",
       "3          1.0     22.320      22.40     21.41     21.9475   46892100.0  \n",
       "4          1.0     21.490      21.63     20.88     20.9100   40529300.0  "
      ]
     },
     "execution_count": 97,
     "metadata": {},
     "output_type": "execute_result"
    }
   ],
   "source": [
    "fb_df.head()"
   ]
  },
  {
   "cell_type": "code",
   "execution_count": 98,
   "id": "44dc7243",
   "metadata": {},
   "outputs": [
    {
     "data": {
      "text/plain": [
       "RangeIndex(start=0, stop=1320, step=1)"
      ]
     },
     "execution_count": 98,
     "metadata": {},
     "output_type": "execute_result"
    }
   ],
   "source": [
    "fb_df.index"
   ]
  },
  {
   "cell_type": "code",
   "execution_count": 99,
   "id": "31847e96",
   "metadata": {},
   "outputs": [
    {
     "data": {
      "text/html": [
       "<div>\n",
       "<style scoped>\n",
       "    .dataframe tbody tr th:only-of-type {\n",
       "        vertical-align: middle;\n",
       "    }\n",
       "\n",
       "    .dataframe tbody tr th {\n",
       "        vertical-align: top;\n",
       "    }\n",
       "\n",
       "    .dataframe thead th {\n",
       "        text-align: right;\n",
       "    }\n",
       "</style>\n",
       "<table border=\"1\" class=\"dataframe\">\n",
       "  <thead>\n",
       "    <tr style=\"text-align: right;\">\n",
       "      <th></th>\n",
       "      <th>Date</th>\n",
       "      <th>Open</th>\n",
       "      <th>High</th>\n",
       "      <th>Low</th>\n",
       "      <th>Close</th>\n",
       "      <th>Volume</th>\n",
       "      <th>Ex-Dividend</th>\n",
       "      <th>Split Ratio</th>\n",
       "      <th>Adj. Open</th>\n",
       "      <th>Adj. High</th>\n",
       "      <th>Adj. Low</th>\n",
       "      <th>Adj. Close</th>\n",
       "      <th>Adj. Volume</th>\n",
       "    </tr>\n",
       "  </thead>\n",
       "  <tbody>\n",
       "    <tr>\n",
       "      <th>0</th>\n",
       "      <td>2012-10-01</td>\n",
       "      <td>22.080</td>\n",
       "      <td>22.59</td>\n",
       "      <td>21.73</td>\n",
       "      <td>21.9900</td>\n",
       "      <td>51262700.0</td>\n",
       "      <td>0.0</td>\n",
       "      <td>1.0</td>\n",
       "      <td>22.080</td>\n",
       "      <td>22.59</td>\n",
       "      <td>21.73</td>\n",
       "      <td>21.9900</td>\n",
       "      <td>51262700.0</td>\n",
       "    </tr>\n",
       "    <tr>\n",
       "      <th>1</th>\n",
       "      <td>2012-10-02</td>\n",
       "      <td>22.080</td>\n",
       "      <td>22.49</td>\n",
       "      <td>21.82</td>\n",
       "      <td>22.2700</td>\n",
       "      <td>29341400.0</td>\n",
       "      <td>0.0</td>\n",
       "      <td>1.0</td>\n",
       "      <td>22.080</td>\n",
       "      <td>22.49</td>\n",
       "      <td>21.82</td>\n",
       "      <td>22.2700</td>\n",
       "      <td>29341400.0</td>\n",
       "    </tr>\n",
       "    <tr>\n",
       "      <th>2</th>\n",
       "      <td>2012-10-03</td>\n",
       "      <td>22.295</td>\n",
       "      <td>22.49</td>\n",
       "      <td>21.80</td>\n",
       "      <td>21.8300</td>\n",
       "      <td>32000100.0</td>\n",
       "      <td>0.0</td>\n",
       "      <td>1.0</td>\n",
       "      <td>22.295</td>\n",
       "      <td>22.49</td>\n",
       "      <td>21.80</td>\n",
       "      <td>21.8300</td>\n",
       "      <td>32000100.0</td>\n",
       "    </tr>\n",
       "    <tr>\n",
       "      <th>3</th>\n",
       "      <td>2012-10-04</td>\n",
       "      <td>22.320</td>\n",
       "      <td>22.40</td>\n",
       "      <td>21.41</td>\n",
       "      <td>21.9475</td>\n",
       "      <td>46892100.0</td>\n",
       "      <td>0.0</td>\n",
       "      <td>1.0</td>\n",
       "      <td>22.320</td>\n",
       "      <td>22.40</td>\n",
       "      <td>21.41</td>\n",
       "      <td>21.9475</td>\n",
       "      <td>46892100.0</td>\n",
       "    </tr>\n",
       "    <tr>\n",
       "      <th>4</th>\n",
       "      <td>2012-10-05</td>\n",
       "      <td>21.490</td>\n",
       "      <td>21.63</td>\n",
       "      <td>20.88</td>\n",
       "      <td>20.9100</td>\n",
       "      <td>40529300.0</td>\n",
       "      <td>0.0</td>\n",
       "      <td>1.0</td>\n",
       "      <td>21.490</td>\n",
       "      <td>21.63</td>\n",
       "      <td>20.88</td>\n",
       "      <td>20.9100</td>\n",
       "      <td>40529300.0</td>\n",
       "    </tr>\n",
       "  </tbody>\n",
       "</table>\n",
       "</div>"
      ],
      "text/plain": [
       "         Date    Open   High    Low    Close      Volume  Ex-Dividend  \\\n",
       "0  2012-10-01  22.080  22.59  21.73  21.9900  51262700.0          0.0   \n",
       "1  2012-10-02  22.080  22.49  21.82  22.2700  29341400.0          0.0   \n",
       "2  2012-10-03  22.295  22.49  21.80  21.8300  32000100.0          0.0   \n",
       "3  2012-10-04  22.320  22.40  21.41  21.9475  46892100.0          0.0   \n",
       "4  2012-10-05  21.490  21.63  20.88  20.9100  40529300.0          0.0   \n",
       "\n",
       "   Split Ratio  Adj. Open  Adj. High  Adj. Low  Adj. Close  Adj. Volume  \n",
       "0          1.0     22.080      22.59     21.73     21.9900   51262700.0  \n",
       "1          1.0     22.080      22.49     21.82     22.2700   29341400.0  \n",
       "2          1.0     22.295      22.49     21.80     21.8300   32000100.0  \n",
       "3          1.0     22.320      22.40     21.41     21.9475   46892100.0  \n",
       "4          1.0     21.490      21.63     20.88     20.9100   40529300.0  "
      ]
     },
     "execution_count": 99,
     "metadata": {},
     "output_type": "execute_result"
    }
   ],
   "source": [
    "fb_df[:5]"
   ]
  },
  {
   "cell_type": "code",
   "execution_count": 100,
   "id": "21f1b7c6",
   "metadata": {},
   "outputs": [
    {
     "data": {
      "text/plain": [
       "184.25"
      ]
     },
     "execution_count": 100,
     "metadata": {},
     "output_type": "execute_result"
    }
   ],
   "source": [
    "fb_df[\"High\"].max()"
   ]
  },
  {
   "cell_type": "code",
   "execution_count": 101,
   "id": "a053ac23",
   "metadata": {},
   "outputs": [
    {
     "data": {
      "text/plain": [
       "18.8"
      ]
     },
     "execution_count": 101,
     "metadata": {},
     "output_type": "execute_result"
    }
   ],
   "source": [
    "fb_df[\"Low\"].min()"
   ]
  },
  {
   "cell_type": "code",
   "execution_count": 102,
   "id": "34c098ba",
   "metadata": {},
   "outputs": [
    {
     "data": {
      "text/plain": [
       "High    90.806227\n",
       "Low     88.975764\n",
       "dtype: float64"
      ]
     },
     "execution_count": 102,
     "metadata": {},
     "output_type": "execute_result"
    }
   ],
   "source": [
    "fb_df[['High', 'Low']].mean()"
   ]
  },
  {
   "cell_type": "code",
   "execution_count": 103,
   "id": "9ba9a1c2",
   "metadata": {},
   "outputs": [
    {
     "data": {
      "text/plain": [
       "RangeIndex(start=0, stop=1320, step=1)"
      ]
     },
     "execution_count": 103,
     "metadata": {},
     "output_type": "execute_result"
    }
   ],
   "source": [
    "fb_df.index"
   ]
  },
  {
   "cell_type": "code",
   "execution_count": 104,
   "id": "2cbddf7e",
   "metadata": {},
   "outputs": [
    {
     "data": {
      "text/plain": [
       "<AxesSubplot:>"
      ]
     },
     "execution_count": 104,
     "metadata": {},
     "output_type": "execute_result"
    },
    {
     "data": {
      "image/png": "[encoded data removed]",
      "text/plain": [
       "<Figure size 432x288 with 1 Axes>"
      ]
     },
     "metadata": {
      "needs_background": "light"
     },
     "output_type": "display_data"
    }
   ],
   "source": [
    "fb_df['Close'].plot()"
   ]
  },
  {
   "cell_type": "code",
   "execution_count": 105,
   "id": "8dc903a4",
   "metadata": {},
   "outputs": [],
   "source": [
    "plt.show()"
   ]
  },
  {
   "cell_type": "code",
   "execution_count": 106,
   "id": "e6ce6ec4",
   "metadata": {},
   "outputs": [],
   "source": [
    "df_with_date_index = pd.read_csv(\"WIKI-FB.csv\", index_col=\"Date\", parse_dates=True)"
   ]
  },
  {
   "cell_type": "code",
   "execution_count": 107,
   "id": "bf34f81f",
   "metadata": {},
   "outputs": [
    {
     "data": {
      "text/plain": [
       "DatetimeIndex(['2012-10-01', '2012-10-02', '2012-10-03', '2012-10-04',\n",
       "               '2012-10-05', '2012-10-08', '2012-10-09', '2012-10-10',\n",
       "               '2012-10-11', '2012-10-12',\n",
       "               ...\n",
       "               '2017-12-15', '2017-12-18', '2017-12-19', '2017-12-20',\n",
       "               '2017-12-21', '2017-12-22', '2017-12-26', '2017-12-27',\n",
       "               '2017-12-28', '2017-12-29'],\n",
       "              dtype='datetime64[ns]', name='Date', length=1320, freq=None)"
      ]
     },
     "execution_count": 107,
     "metadata": {},
     "output_type": "execute_result"
    }
   ],
   "source": [
    "df_with_date_index.index"
   ]
  },
  {
   "cell_type": "code",
   "execution_count": 108,
   "id": "54a10cca",
   "metadata": {},
   "outputs": [
    {
     "data": {
      "text/html": [
       "<div>\n",
       "<style scoped>\n",
       "    .dataframe tbody tr th:only-of-type {\n",
       "        vertical-align: middle;\n",
       "    }\n",
       "\n",
       "    .dataframe tbody tr th {\n",
       "        vertical-align: top;\n",
       "    }\n",
       "\n",
       "    .dataframe thead th {\n",
       "        text-align: right;\n",
       "    }\n",
       "</style>\n",
       "<table border=\"1\" class=\"dataframe\">\n",
       "  <thead>\n",
       "    <tr style=\"text-align: right;\">\n",
       "      <th></th>\n",
       "      <th>Open</th>\n",
       "      <th>High</th>\n",
       "      <th>Low</th>\n",
       "      <th>Close</th>\n",
       "      <th>Volume</th>\n",
       "      <th>Ex-Dividend</th>\n",
       "      <th>Split Ratio</th>\n",
       "      <th>Adj. Open</th>\n",
       "      <th>Adj. High</th>\n",
       "      <th>Adj. Low</th>\n",
       "      <th>Adj. Close</th>\n",
       "      <th>Adj. Volume</th>\n",
       "    </tr>\n",
       "    <tr>\n",
       "      <th>Date</th>\n",
       "      <th></th>\n",
       "      <th></th>\n",
       "      <th></th>\n",
       "      <th></th>\n",
       "      <th></th>\n",
       "      <th></th>\n",
       "      <th></th>\n",
       "      <th></th>\n",
       "      <th></th>\n",
       "      <th></th>\n",
       "      <th></th>\n",
       "      <th></th>\n",
       "    </tr>\n",
       "  </thead>\n",
       "  <tbody>\n",
       "    <tr>\n",
       "      <th>2012-10-01</th>\n",
       "      <td>22.080</td>\n",
       "      <td>22.59</td>\n",
       "      <td>21.73</td>\n",
       "      <td>21.9900</td>\n",
       "      <td>51262700.0</td>\n",
       "      <td>0.0</td>\n",
       "      <td>1.0</td>\n",
       "      <td>22.080</td>\n",
       "      <td>22.59</td>\n",
       "      <td>21.73</td>\n",
       "      <td>21.9900</td>\n",
       "      <td>51262700.0</td>\n",
       "    </tr>\n",
       "    <tr>\n",
       "      <th>2012-10-02</th>\n",
       "      <td>22.080</td>\n",
       "      <td>22.49</td>\n",
       "      <td>21.82</td>\n",
       "      <td>22.2700</td>\n",
       "      <td>29341400.0</td>\n",
       "      <td>0.0</td>\n",
       "      <td>1.0</td>\n",
       "      <td>22.080</td>\n",
       "      <td>22.49</td>\n",
       "      <td>21.82</td>\n",
       "      <td>22.2700</td>\n",
       "      <td>29341400.0</td>\n",
       "    </tr>\n",
       "    <tr>\n",
       "      <th>2012-10-03</th>\n",
       "      <td>22.295</td>\n",
       "      <td>22.49</td>\n",
       "      <td>21.80</td>\n",
       "      <td>21.8300</td>\n",
       "      <td>32000100.0</td>\n",
       "      <td>0.0</td>\n",
       "      <td>1.0</td>\n",
       "      <td>22.295</td>\n",
       "      <td>22.49</td>\n",
       "      <td>21.80</td>\n",
       "      <td>21.8300</td>\n",
       "      <td>32000100.0</td>\n",
       "    </tr>\n",
       "    <tr>\n",
       "      <th>2012-10-04</th>\n",
       "      <td>22.320</td>\n",
       "      <td>22.40</td>\n",
       "      <td>21.41</td>\n",
       "      <td>21.9475</td>\n",
       "      <td>46892100.0</td>\n",
       "      <td>0.0</td>\n",
       "      <td>1.0</td>\n",
       "      <td>22.320</td>\n",
       "      <td>22.40</td>\n",
       "      <td>21.41</td>\n",
       "      <td>21.9475</td>\n",
       "      <td>46892100.0</td>\n",
       "    </tr>\n",
       "    <tr>\n",
       "      <th>2012-10-05</th>\n",
       "      <td>21.490</td>\n",
       "      <td>21.63</td>\n",
       "      <td>20.88</td>\n",
       "      <td>20.9100</td>\n",
       "      <td>40529300.0</td>\n",
       "      <td>0.0</td>\n",
       "      <td>1.0</td>\n",
       "      <td>21.490</td>\n",
       "      <td>21.63</td>\n",
       "      <td>20.88</td>\n",
       "      <td>20.9100</td>\n",
       "      <td>40529300.0</td>\n",
       "    </tr>\n",
       "  </tbody>\n",
       "</table>\n",
       "</div>"
      ],
      "text/plain": [
       "              Open   High    Low    Close      Volume  Ex-Dividend  \\\n",
       "Date                                                                 \n",
       "2012-10-01  22.080  22.59  21.73  21.9900  51262700.0          0.0   \n",
       "2012-10-02  22.080  22.49  21.82  22.2700  29341400.0          0.0   \n",
       "2012-10-03  22.295  22.49  21.80  21.8300  32000100.0          0.0   \n",
       "2012-10-04  22.320  22.40  21.41  21.9475  46892100.0          0.0   \n",
       "2012-10-05  21.490  21.63  20.88  20.9100  40529300.0          0.0   \n",
       "\n",
       "            Split Ratio  Adj. Open  Adj. High  Adj. Low  Adj. Close  \\\n",
       "Date                                                                  \n",
       "2012-10-01          1.0     22.080      22.59     21.73     21.9900   \n",
       "2012-10-02          1.0     22.080      22.49     21.82     22.2700   \n",
       "2012-10-03          1.0     22.295      22.49     21.80     21.8300   \n",
       "2012-10-04          1.0     22.320      22.40     21.41     21.9475   \n",
       "2012-10-05          1.0     21.490      21.63     20.88     20.9100   \n",
       "\n",
       "            Adj. Volume  \n",
       "Date                     \n",
       "2012-10-01   51262700.0  \n",
       "2012-10-02   29341400.0  \n",
       "2012-10-03   32000100.0  \n",
       "2012-10-04   46892100.0  \n",
       "2012-10-05   40529300.0  "
      ]
     },
     "execution_count": 108,
     "metadata": {},
     "output_type": "execute_result"
    }
   ],
   "source": [
    "df_with_date_index.head()"
   ]
  },
  {
   "cell_type": "code",
   "execution_count": 109,
   "id": "a07165ce",
   "metadata": {},
   "outputs": [],
   "source": [
    "df_with_date_index = df_with_date_index.sort_index()"
   ]
  },
  {
   "cell_type": "code",
   "execution_count": 110,
   "id": "3f97a1e5",
   "metadata": {},
   "outputs": [
    {
     "data": {
      "text/plain": [
       "<AxesSubplot:xlabel='Date'>"
      ]
     },
     "execution_count": 110,
     "metadata": {},
     "output_type": "execute_result"
    },
    {
     "data": {
      "image/png": "[encoded data removed]",
      "text/plain": [
       "<Figure size 432x288 with 1 Axes>"
      ]
     },
     "metadata": {
      "needs_background": "light"
     },
     "output_type": "display_data"
    }
   ],
   "source": [
    "df_with_date_index['Adj. Close'].plot()"
   ]
  },
  {
   "cell_type": "code",
   "execution_count": 111,
   "id": "55850f1b",
   "metadata": {},
   "outputs": [],
   "source": [
    "df_with_date_index_1 = fb_df.set_index(\"Date\").sort_index()"
   ]
  },
  {
   "cell_type": "code",
   "execution_count": 112,
   "id": "883f48d9",
   "metadata": {},
   "outputs": [
    {
     "data": {
      "text/html": [
       "<div>\n",
       "<style scoped>\n",
       "    .dataframe tbody tr th:only-of-type {\n",
       "        vertical-align: middle;\n",
       "    }\n",
       "\n",
       "    .dataframe tbody tr th {\n",
       "        vertical-align: top;\n",
       "    }\n",
       "\n",
       "    .dataframe thead th {\n",
       "        text-align: right;\n",
       "    }\n",
       "</style>\n",
       "<table border=\"1\" class=\"dataframe\">\n",
       "  <thead>\n",
       "    <tr style=\"text-align: right;\">\n",
       "      <th></th>\n",
       "      <th>Open</th>\n",
       "      <th>High</th>\n",
       "      <th>Low</th>\n",
       "      <th>Close</th>\n",
       "      <th>Volume</th>\n",
       "      <th>Ex-Dividend</th>\n",
       "      <th>Split Ratio</th>\n",
       "      <th>Adj. Open</th>\n",
       "      <th>Adj. High</th>\n",
       "      <th>Adj. Low</th>\n",
       "      <th>Adj. Close</th>\n",
       "      <th>Adj. Volume</th>\n",
       "    </tr>\n",
       "    <tr>\n",
       "      <th>Date</th>\n",
       "      <th></th>\n",
       "      <th></th>\n",
       "      <th></th>\n",
       "      <th></th>\n",
       "      <th></th>\n",
       "      <th></th>\n",
       "      <th></th>\n",
       "      <th></th>\n",
       "      <th></th>\n",
       "      <th></th>\n",
       "      <th></th>\n",
       "      <th></th>\n",
       "    </tr>\n",
       "  </thead>\n",
       "  <tbody>\n",
       "    <tr>\n",
       "      <th>2012-10-01</th>\n",
       "      <td>22.080</td>\n",
       "      <td>22.59</td>\n",
       "      <td>21.73</td>\n",
       "      <td>21.9900</td>\n",
       "      <td>51262700.0</td>\n",
       "      <td>0.0</td>\n",
       "      <td>1.0</td>\n",
       "      <td>22.080</td>\n",
       "      <td>22.59</td>\n",
       "      <td>21.73</td>\n",
       "      <td>21.9900</td>\n",
       "      <td>51262700.0</td>\n",
       "    </tr>\n",
       "    <tr>\n",
       "      <th>2012-10-02</th>\n",
       "      <td>22.080</td>\n",
       "      <td>22.49</td>\n",
       "      <td>21.82</td>\n",
       "      <td>22.2700</td>\n",
       "      <td>29341400.0</td>\n",
       "      <td>0.0</td>\n",
       "      <td>1.0</td>\n",
       "      <td>22.080</td>\n",
       "      <td>22.49</td>\n",
       "      <td>21.82</td>\n",
       "      <td>22.2700</td>\n",
       "      <td>29341400.0</td>\n",
       "    </tr>\n",
       "    <tr>\n",
       "      <th>2012-10-03</th>\n",
       "      <td>22.295</td>\n",
       "      <td>22.49</td>\n",
       "      <td>21.80</td>\n",
       "      <td>21.8300</td>\n",
       "      <td>32000100.0</td>\n",
       "      <td>0.0</td>\n",
       "      <td>1.0</td>\n",
       "      <td>22.295</td>\n",
       "      <td>22.49</td>\n",
       "      <td>21.80</td>\n",
       "      <td>21.8300</td>\n",
       "      <td>32000100.0</td>\n",
       "    </tr>\n",
       "    <tr>\n",
       "      <th>2012-10-04</th>\n",
       "      <td>22.320</td>\n",
       "      <td>22.40</td>\n",
       "      <td>21.41</td>\n",
       "      <td>21.9475</td>\n",
       "      <td>46892100.0</td>\n",
       "      <td>0.0</td>\n",
       "      <td>1.0</td>\n",
       "      <td>22.320</td>\n",
       "      <td>22.40</td>\n",
       "      <td>21.41</td>\n",
       "      <td>21.9475</td>\n",
       "      <td>46892100.0</td>\n",
       "    </tr>\n",
       "    <tr>\n",
       "      <th>2012-10-05</th>\n",
       "      <td>21.490</td>\n",
       "      <td>21.63</td>\n",
       "      <td>20.88</td>\n",
       "      <td>20.9100</td>\n",
       "      <td>40529300.0</td>\n",
       "      <td>0.0</td>\n",
       "      <td>1.0</td>\n",
       "      <td>21.490</td>\n",
       "      <td>21.63</td>\n",
       "      <td>20.88</td>\n",
       "      <td>20.9100</td>\n",
       "      <td>40529300.0</td>\n",
       "    </tr>\n",
       "  </tbody>\n",
       "</table>\n",
       "</div>"
      ],
      "text/plain": [
       "              Open   High    Low    Close      Volume  Ex-Dividend  \\\n",
       "Date                                                                 \n",
       "2012-10-01  22.080  22.59  21.73  21.9900  51262700.0          0.0   \n",
       "2012-10-02  22.080  22.49  21.82  22.2700  29341400.0          0.0   \n",
       "2012-10-03  22.295  22.49  21.80  21.8300  32000100.0          0.0   \n",
       "2012-10-04  22.320  22.40  21.41  21.9475  46892100.0          0.0   \n",
       "2012-10-05  21.490  21.63  20.88  20.9100  40529300.0          0.0   \n",
       "\n",
       "            Split Ratio  Adj. Open  Adj. High  Adj. Low  Adj. Close  \\\n",
       "Date                                                                  \n",
       "2012-10-01          1.0     22.080      22.59     21.73     21.9900   \n",
       "2012-10-02          1.0     22.080      22.49     21.82     22.2700   \n",
       "2012-10-03          1.0     22.295      22.49     21.80     21.8300   \n",
       "2012-10-04          1.0     22.320      22.40     21.41     21.9475   \n",
       "2012-10-05          1.0     21.490      21.63     20.88     20.9100   \n",
       "\n",
       "            Adj. Volume  \n",
       "Date                     \n",
       "2012-10-01   51262700.0  \n",
       "2012-10-02   29341400.0  \n",
       "2012-10-03   32000100.0  \n",
       "2012-10-04   46892100.0  \n",
       "2012-10-05   40529300.0  "
      ]
     },
     "execution_count": 112,
     "metadata": {},
     "output_type": "execute_result"
    }
   ],
   "source": [
    "df_with_date_index_1.head()"
   ]
  },
  {
   "cell_type": "code",
   "execution_count": 113,
   "id": "a71b98d5",
   "metadata": {},
   "outputs": [
    {
     "data": {
      "text/plain": [
       "Index(['2012-10-01', '2012-10-02', '2012-10-03', '2012-10-04', '2012-10-05',\n",
       "       '2012-10-08', '2012-10-09', '2012-10-10', '2012-10-11', '2012-10-12',\n",
       "       ...\n",
       "       '2017-12-15', '2017-12-18', '2017-12-19', '2017-12-20', '2017-12-21',\n",
       "       '2017-12-22', '2017-12-26', '2017-12-27', '2017-12-28', '2017-12-29'],\n",
       "      dtype='object', name='Date', length=1320)"
      ]
     },
     "execution_count": 113,
     "metadata": {},
     "output_type": "execute_result"
    }
   ],
   "source": [
    "df_with_date_index_1.index"
   ]
  },
  {
   "cell_type": "code",
   "execution_count": 114,
   "id": "b217bff2",
   "metadata": {},
   "outputs": [
    {
     "data": {
      "text/plain": [
       "<AxesSubplot:xlabel='Date'>"
      ]
     },
     "execution_count": 114,
     "metadata": {},
     "output_type": "execute_result"
    },
    {
     "data": {
      "image/png": "[encoded data removed]",
      "text/plain": [
       "<Figure size 432x288 with 1 Axes>"
      ]
     },
     "metadata": {
      "needs_background": "light"
     },
     "output_type": "display_data"
    }
   ],
   "source": [
    "df_with_date_index_1[\"Adj. Close\"].plot()"
   ]
  },
  {
   "cell_type": "code",
   "execution_count": 115,
   "id": "d017c046",
   "metadata": {},
   "outputs": [],
   "source": [
    "plt.show()"
   ]
  },
  {
   "cell_type": "code",
   "execution_count": 116,
   "id": "6476e486",
   "metadata": {},
   "outputs": [],
   "source": [
    "aapl_df = pd.read_csv(\"WIKI-AAPL.csv\")"
   ]
  },
  {
   "cell_type": "code",
   "execution_count": 117,
   "id": "0b358567",
   "metadata": {},
   "outputs": [
    {
     "data": {
      "text/plain": [
       "RangeIndex(start=0, stop=1070, step=1)"
      ]
     },
     "execution_count": 117,
     "metadata": {},
     "output_type": "execute_result"
    }
   ],
   "source": [
    "aapl_df.index"
   ]
  },
  {
   "cell_type": "code",
   "execution_count": 118,
   "id": "e5dd6ea3",
   "metadata": {},
   "outputs": [],
   "source": [
    "df_fb = pd.read_csv(\"WIKI-FB.csv\", index_col=\"Date\", parse_dates=True, usecols=[\"Date\", \"Adj. Close\"])\n",
    "# df_multistock = "
   ]
  },
  {
   "cell_type": "code",
   "execution_count": 119,
   "id": "bbc07189",
   "metadata": {},
   "outputs": [],
   "source": [
    "df_aapl = pd.read_csv(\"WIKI-AAPL.csv\", index_col=\"Date\", parse_dates=True, usecols=[\"Date\", \"Adj. Close\"])\n"
   ]
  },
  {
   "cell_type": "code",
   "execution_count": 120,
   "id": "0eaa6284",
   "metadata": {},
   "outputs": [],
   "source": [
    "date_range = pd.date_range(\"2014-01-01\", \"2014-12-31\")"
   ]
  },
  {
   "cell_type": "code",
   "execution_count": 121,
   "id": "39684c69",
   "metadata": {},
   "outputs": [
    {
     "data": {
      "text/plain": [
       "DatetimeIndex(['2014-01-01', '2014-01-02', '2014-01-03', '2014-01-04',\n",
       "               '2014-01-05', '2014-01-06', '2014-01-07', '2014-01-08',\n",
       "               '2014-01-09', '2014-01-10',\n",
       "               ...\n",
       "               '2014-12-22', '2014-12-23', '2014-12-24', '2014-12-25',\n",
       "               '2014-12-26', '2014-12-27', '2014-12-28', '2014-12-29',\n",
       "               '2014-12-30', '2014-12-31'],\n",
       "              dtype='datetime64[ns]', length=365, freq='D')"
      ]
     },
     "execution_count": 121,
     "metadata": {},
     "output_type": "execute_result"
    }
   ],
   "source": [
    "date_range"
   ]
  },
  {
   "cell_type": "code",
   "execution_count": 122,
   "id": "e358710f",
   "metadata": {},
   "outputs": [],
   "source": [
    "df_multistock = pd.DataFrame(index=date_range)"
   ]
  },
  {
   "cell_type": "code",
   "execution_count": 123,
   "id": "685385f2",
   "metadata": {},
   "outputs": [],
   "source": [
    "df_multistock = df_multistock.join(df_fb, how=\"inner\")"
   ]
  },
  {
   "cell_type": "code",
   "execution_count": 124,
   "id": "6347bb7b",
   "metadata": {},
   "outputs": [
    {
     "data": {
      "text/html": [
       "<div>\n",
       "<style scoped>\n",
       "    .dataframe tbody tr th:only-of-type {\n",
       "        vertical-align: middle;\n",
       "    }\n",
       "\n",
       "    .dataframe tbody tr th {\n",
       "        vertical-align: top;\n",
       "    }\n",
       "\n",
       "    .dataframe thead th {\n",
       "        text-align: right;\n",
       "    }\n",
       "</style>\n",
       "<table border=\"1\" class=\"dataframe\">\n",
       "  <thead>\n",
       "    <tr style=\"text-align: right;\">\n",
       "      <th></th>\n",
       "      <th>Adj. Close</th>\n",
       "    </tr>\n",
       "  </thead>\n",
       "  <tbody>\n",
       "    <tr>\n",
       "      <th>2014-01-02</th>\n",
       "      <td>54.710</td>\n",
       "    </tr>\n",
       "    <tr>\n",
       "      <th>2014-01-03</th>\n",
       "      <td>54.557</td>\n",
       "    </tr>\n",
       "    <tr>\n",
       "      <th>2014-01-06</th>\n",
       "      <td>57.200</td>\n",
       "    </tr>\n",
       "    <tr>\n",
       "      <th>2014-01-07</th>\n",
       "      <td>57.920</td>\n",
       "    </tr>\n",
       "    <tr>\n",
       "      <th>2014-01-08</th>\n",
       "      <td>58.230</td>\n",
       "    </tr>\n",
       "  </tbody>\n",
       "</table>\n",
       "</div>"
      ],
      "text/plain": [
       "            Adj. Close\n",
       "2014-01-02      54.710\n",
       "2014-01-03      54.557\n",
       "2014-01-06      57.200\n",
       "2014-01-07      57.920\n",
       "2014-01-08      58.230"
      ]
     },
     "execution_count": 124,
     "metadata": {},
     "output_type": "execute_result"
    }
   ],
   "source": [
    "df_multistock.head()"
   ]
  },
  {
   "cell_type": "code",
   "execution_count": 127,
   "id": "23ade2e9",
   "metadata": {},
   "outputs": [],
   "source": [
    "df_multistock = df_multistock.rename(columns={'Adj. Close': \"FB\"})"
   ]
  },
  {
   "cell_type": "code",
   "execution_count": 128,
   "id": "c7bb101c",
   "metadata": {},
   "outputs": [
    {
     "data": {
      "text/html": [
       "<div>\n",
       "<style scoped>\n",
       "    .dataframe tbody tr th:only-of-type {\n",
       "        vertical-align: middle;\n",
       "    }\n",
       "\n",
       "    .dataframe tbody tr th {\n",
       "        vertical-align: top;\n",
       "    }\n",
       "\n",
       "    .dataframe thead th {\n",
       "        text-align: right;\n",
       "    }\n",
       "</style>\n",
       "<table border=\"1\" class=\"dataframe\">\n",
       "  <thead>\n",
       "    <tr style=\"text-align: right;\">\n",
       "      <th></th>\n",
       "      <th>FB</th>\n",
       "    </tr>\n",
       "  </thead>\n",
       "  <tbody>\n",
       "    <tr>\n",
       "      <th>2014-01-02</th>\n",
       "      <td>54.710</td>\n",
       "    </tr>\n",
       "    <tr>\n",
       "      <th>2014-01-03</th>\n",
       "      <td>54.557</td>\n",
       "    </tr>\n",
       "    <tr>\n",
       "      <th>2014-01-06</th>\n",
       "      <td>57.200</td>\n",
       "    </tr>\n",
       "    <tr>\n",
       "      <th>2014-01-07</th>\n",
       "      <td>57.920</td>\n",
       "    </tr>\n",
       "    <tr>\n",
       "      <th>2014-01-08</th>\n",
       "      <td>58.230</td>\n",
       "    </tr>\n",
       "  </tbody>\n",
       "</table>\n",
       "</div>"
      ],
      "text/plain": [
       "                FB\n",
       "2014-01-02  54.710\n",
       "2014-01-03  54.557\n",
       "2014-01-06  57.200\n",
       "2014-01-07  57.920\n",
       "2014-01-08  58.230"
      ]
     },
     "execution_count": 128,
     "metadata": {},
     "output_type": "execute_result"
    }
   ],
   "source": [
    "df_multistock.head()"
   ]
  },
  {
   "cell_type": "code",
   "execution_count": 129,
   "id": "c0ac8da5",
   "metadata": {},
   "outputs": [
    {
     "data": {
      "text/plain": [
       "DatetimeIndex(['2012-10-01', '2012-10-02', '2012-10-03', '2012-10-04',\n",
       "               '2012-10-05', '2012-10-08', '2012-10-09', '2012-10-10',\n",
       "               '2012-10-11', '2012-10-12',\n",
       "               ...\n",
       "               '2016-12-16', '2016-12-19', '2016-12-20', '2016-12-21',\n",
       "               '2016-12-22', '2016-12-23', '2016-12-27', '2016-12-28',\n",
       "               '2016-12-29', '2016-12-30'],\n",
       "              dtype='datetime64[ns]', name='Date', length=1070, freq=None)"
      ]
     },
     "execution_count": 129,
     "metadata": {},
     "output_type": "execute_result"
    }
   ],
   "source": [
    "df_aapl.index"
   ]
  },
  {
   "cell_type": "code",
   "execution_count": 130,
   "id": "974df336",
   "metadata": {},
   "outputs": [],
   "source": [
    "df_multistock = df_multistock.join(df_aapl, how=\"inner\")"
   ]
  },
  {
   "cell_type": "code",
   "execution_count": 132,
   "id": "0e0a5999",
   "metadata": {},
   "outputs": [],
   "source": [
    "df_multistock = df_multistock.rename(columns={'Adj. Close': \"AAPL\"})"
   ]
  },
  {
   "cell_type": "code",
   "execution_count": 133,
   "id": "af2e133c",
   "metadata": {},
   "outputs": [
    {
     "data": {
      "text/html": [
       "<div>\n",
       "<style scoped>\n",
       "    .dataframe tbody tr th:only-of-type {\n",
       "        vertical-align: middle;\n",
       "    }\n",
       "\n",
       "    .dataframe tbody tr th {\n",
       "        vertical-align: top;\n",
       "    }\n",
       "\n",
       "    .dataframe thead th {\n",
       "        text-align: right;\n",
       "    }\n",
       "</style>\n",
       "<table border=\"1\" class=\"dataframe\">\n",
       "  <thead>\n",
       "    <tr style=\"text-align: right;\">\n",
       "      <th></th>\n",
       "      <th>FB</th>\n",
       "      <th>AAPL</th>\n",
       "    </tr>\n",
       "  </thead>\n",
       "  <tbody>\n",
       "    <tr>\n",
       "      <th>2014-01-02</th>\n",
       "      <td>54.710</td>\n",
       "      <td>73.523423</td>\n",
       "    </tr>\n",
       "    <tr>\n",
       "      <th>2014-01-03</th>\n",
       "      <td>54.557</td>\n",
       "      <td>71.908415</td>\n",
       "    </tr>\n",
       "    <tr>\n",
       "      <th>2014-01-06</th>\n",
       "      <td>57.200</td>\n",
       "      <td>72.300536</td>\n",
       "    </tr>\n",
       "    <tr>\n",
       "      <th>2014-01-07</th>\n",
       "      <td>57.920</td>\n",
       "      <td>71.783135</td>\n",
       "    </tr>\n",
       "    <tr>\n",
       "      <th>2014-01-08</th>\n",
       "      <td>58.230</td>\n",
       "      <td>72.238063</td>\n",
       "    </tr>\n",
       "  </tbody>\n",
       "</table>\n",
       "</div>"
      ],
      "text/plain": [
       "                FB       AAPL\n",
       "2014-01-02  54.710  73.523423\n",
       "2014-01-03  54.557  71.908415\n",
       "2014-01-06  57.200  72.300536\n",
       "2014-01-07  57.920  71.783135\n",
       "2014-01-08  58.230  72.238063"
      ]
     },
     "execution_count": 133,
     "metadata": {},
     "output_type": "execute_result"
    }
   ],
   "source": [
    "df_multistock.head()"
   ]
  },
  {
   "cell_type": "code",
   "execution_count": 134,
   "id": "6b4b7b3b",
   "metadata": {},
   "outputs": [
    {
     "data": {
      "text/plain": [
       "<AxesSubplot:>"
      ]
     },
     "execution_count": 134,
     "metadata": {},
     "output_type": "execute_result"
    },
    {
     "data": {
      "image/png": "[encoded data removed]",
      "text/plain": [
       "<Figure size 432x288 with 1 Axes>"
      ]
     },
     "metadata": {
      "needs_background": "light"
     },
     "output_type": "display_data"
    }
   ],
   "source": [
    "df_multistock[[\"FB\", \"AAPL\"]].plot()"
   ]
  },
  {
   "cell_type": "code",
   "execution_count": null,
   "id": "ef83c2f1",
   "metadata": {},
   "outputs": [],
   "source": [
    "def prepare_stock_data(pandas, stock):\n",
    "    "
   ]
  }
 ],
 "metadata": {
  "kernelspec": {
   "display_name": "Python 3",
   "language": "python",
   "name": "python3"
  },
  "language_info": {
   "codemirror_mode": {
    "name": "ipython",
    "version": 3
   },
   "file_extension": ".py",
   "mimetype": "text/x-python",
   "name": "python",
   "nbconvert_exporter": "python",
   "pygments_lexer": "ipython3",
   "version": "3.9.2"
  }
 },
 "nbformat": 4,
 "nbformat_minor": 5
}
