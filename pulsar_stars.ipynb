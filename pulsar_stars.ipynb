{
 "cells": [
  {
   "cell_type": "markdown",
   "id": "8d9bd88d",
   "metadata": {},
   "source": [
    "# Data Science samples"
   ]
  },
  {
   "cell_type": "code",
   "execution_count": 1,
   "id": "28d8db6f",
   "metadata": {},
   "outputs": [],
   "source": [
    "import pandas as pd\n",
    "import numpy as np\n",
    "from sklearn.linear_model import LinearRegression\n",
    "from sklearn.metrics import mean_squared_error\n",
    "from sklearn.model_selection import train_test_split, cross_val_score"
   ]
  },
  {
   "cell_type": "code",
   "execution_count": 38,
   "id": "490188a1",
   "metadata": {},
   "outputs": [],
   "source": [
    "def cleanup_names(name):\n",
    "    return str(name).strip().replace(\" \",\"_\")"
   ]
  },
  {
   "cell_type": "markdown",
   "id": "c7bae041",
   "metadata": {},
   "source": [
    "## Classifiers and Regressors"
   ]
  },
  {
   "cell_type": "markdown",
   "id": "575beb62",
   "metadata": {},
   "source": [
    "### Pulsar stars"
   ]
  },
  {
   "cell_type": "code",
   "execution_count": 6,
   "id": "2f18dd21",
   "metadata": {},
   "outputs": [],
   "source": [
    "col_names = [\"Mean of the integrated profile\",\"Standard deviation of the integrated profile\",\n",
    "\"Excess kurtosis of the integrated profile\",\n",
    "\"Skewness of the integrated profile\",\n",
    "\"Mean of the DM-SNR curve\",\n",
    "\"Standard deviation of the DM-SNR curve\",\n",
    "\"Excess kurtosis of the DM-SNR curve\",\n",
    "\"Skewness of the DM-SNR curve\",\n",
    "\"Class\"]"
   ]
  },
  {
   "cell_type": "code",
   "execution_count": 7,
   "id": "8581612d",
   "metadata": {},
   "outputs": [],
   "source": [
    "col_names = [cleanup_names(col) for col in col_names]"
   ]
  },
  {
   "cell_type": "code",
   "execution_count": 8,
   "id": "5669320e",
   "metadata": {},
   "outputs": [
    {
     "name": "stdout",
     "output_type": "stream",
     "text": [
      "['Mean_of_the_integrated_profile', 'Standard_deviation_of_the_integrated_profile', 'Excess_kurtosis_of_the_integrated_profile', 'Skewness_of_the_integrated_profile', 'Mean_of_the_DM-SNR_curve', 'Standard_deviation_of_the_DM-SNR_curve', 'Excess_kurtosis_of_the_DM-SNR_curve', 'Skewness_of_the_DM-SNR_curve', 'Class']\n"
     ]
    }
   ],
   "source": [
    "print(col_names)"
   ]
  },
  {
   "cell_type": "code",
   "execution_count": 9,
   "id": "8ba0f07b",
   "metadata": {},
   "outputs": [],
   "source": [
    "df = pd.read_csv(\"HTRU_2.csv\", sep=\",\", names=col_names)"
   ]
  },
  {
   "cell_type": "code",
   "execution_count": 10,
   "id": "b9c187a1",
   "metadata": {},
   "outputs": [
    {
     "name": "stdout",
     "output_type": "stream",
     "text": [
      "<class 'pandas.core.frame.DataFrame'>\n",
      "RangeIndex: 17898 entries, 0 to 17897\n",
      "Data columns (total 9 columns):\n",
      " #   Column                                        Non-Null Count  Dtype  \n",
      "---  ------                                        --------------  -----  \n",
      " 0   Mean_of_the_integrated_profile                17898 non-null  float64\n",
      " 1   Standard_deviation_of_the_integrated_profile  17898 non-null  float64\n",
      " 2   Excess_kurtosis_of_the_integrated_profile     17898 non-null  float64\n",
      " 3   Skewness_of_the_integrated_profile            17898 non-null  float64\n",
      " 4   Mean_of_the_DM-SNR_curve                      17898 non-null  float64\n",
      " 5   Standard_deviation_of_the_DM-SNR_curve        17898 non-null  float64\n",
      " 6   Excess_kurtosis_of_the_DM-SNR_curve           17898 non-null  float64\n",
      " 7   Skewness_of_the_DM-SNR_curve                  17898 non-null  float64\n",
      " 8   Class                                         17898 non-null  int64  \n",
      "dtypes: float64(8), int64(1)\n",
      "memory usage: 1.2 MB\n"
     ]
    }
   ],
   "source": [
    "df.info()"
   ]
  },
  {
   "cell_type": "markdown",
   "id": "37730083",
   "metadata": {},
   "source": [
    "1. Mean of the integrated profile.\n",
    "2. Standard deviation of the integrated profile.\n",
    "3. Excess kurtosis of the integrated profile.\n",
    "4. Skewness of the integrated profile.\n",
    "5. Mean of the DM-SNR curve.\n",
    "6. Standard deviation of the DM-SNR curve.\n",
    "7. Excess kurtosis of the DM-SNR curve.\n",
    "8. Skewness of the DM-SNR curve.\n",
    "9. Class"
   ]
  },
  {
   "cell_type": "code",
   "execution_count": 11,
   "id": "0d8236e9",
   "metadata": {},
   "outputs": [
    {
     "data": {
      "text/html": [
       "<div>\n",
       "<style scoped>\n",
       "    .dataframe tbody tr th:only-of-type {\n",
       "        vertical-align: middle;\n",
       "    }\n",
       "\n",
       "    .dataframe tbody tr th {\n",
       "        vertical-align: top;\n",
       "    }\n",
       "\n",
       "    .dataframe thead th {\n",
       "        text-align: right;\n",
       "    }\n",
       "</style>\n",
       "<table border=\"1\" class=\"dataframe\">\n",
       "  <thead>\n",
       "    <tr style=\"text-align: right;\">\n",
       "      <th></th>\n",
       "      <th>Mean_of_the_integrated_profile</th>\n",
       "      <th>Standard_deviation_of_the_integrated_profile</th>\n",
       "      <th>Excess_kurtosis_of_the_integrated_profile</th>\n",
       "      <th>Skewness_of_the_integrated_profile</th>\n",
       "      <th>Mean_of_the_DM-SNR_curve</th>\n",
       "      <th>Standard_deviation_of_the_DM-SNR_curve</th>\n",
       "      <th>Excess_kurtosis_of_the_DM-SNR_curve</th>\n",
       "      <th>Skewness_of_the_DM-SNR_curve</th>\n",
       "      <th>Class</th>\n",
       "    </tr>\n",
       "  </thead>\n",
       "  <tbody>\n",
       "    <tr>\n",
       "      <th>0</th>\n",
       "      <td>140.562500</td>\n",
       "      <td>55.683782</td>\n",
       "      <td>-0.234571</td>\n",
       "      <td>-0.699648</td>\n",
       "      <td>3.199833</td>\n",
       "      <td>19.110426</td>\n",
       "      <td>7.975532</td>\n",
       "      <td>74.242225</td>\n",
       "      <td>0</td>\n",
       "    </tr>\n",
       "    <tr>\n",
       "      <th>1</th>\n",
       "      <td>102.507812</td>\n",
       "      <td>58.882430</td>\n",
       "      <td>0.465318</td>\n",
       "      <td>-0.515088</td>\n",
       "      <td>1.677258</td>\n",
       "      <td>14.860146</td>\n",
       "      <td>10.576487</td>\n",
       "      <td>127.393580</td>\n",
       "      <td>0</td>\n",
       "    </tr>\n",
       "    <tr>\n",
       "      <th>2</th>\n",
       "      <td>103.015625</td>\n",
       "      <td>39.341649</td>\n",
       "      <td>0.323328</td>\n",
       "      <td>1.051164</td>\n",
       "      <td>3.121237</td>\n",
       "      <td>21.744669</td>\n",
       "      <td>7.735822</td>\n",
       "      <td>63.171909</td>\n",
       "      <td>0</td>\n",
       "    </tr>\n",
       "  </tbody>\n",
       "</table>\n",
       "</div>"
      ],
      "text/plain": [
       "   Mean_of_the_integrated_profile  \\\n",
       "0                      140.562500   \n",
       "1                      102.507812   \n",
       "2                      103.015625   \n",
       "\n",
       "   Standard_deviation_of_the_integrated_profile  \\\n",
       "0                                     55.683782   \n",
       "1                                     58.882430   \n",
       "2                                     39.341649   \n",
       "\n",
       "   Excess_kurtosis_of_the_integrated_profile  \\\n",
       "0                                  -0.234571   \n",
       "1                                   0.465318   \n",
       "2                                   0.323328   \n",
       "\n",
       "   Skewness_of_the_integrated_profile  Mean_of_the_DM-SNR_curve  \\\n",
       "0                           -0.699648                  3.199833   \n",
       "1                           -0.515088                  1.677258   \n",
       "2                            1.051164                  3.121237   \n",
       "\n",
       "   Standard_deviation_of_the_DM-SNR_curve  \\\n",
       "0                               19.110426   \n",
       "1                               14.860146   \n",
       "2                               21.744669   \n",
       "\n",
       "   Excess_kurtosis_of_the_DM-SNR_curve  Skewness_of_the_DM-SNR_curve  Class  \n",
       "0                             7.975532                     74.242225      0  \n",
       "1                            10.576487                    127.393580      0  \n",
       "2                             7.735822                     63.171909      0  "
      ]
     },
     "execution_count": 11,
     "metadata": {},
     "output_type": "execute_result"
    }
   ],
   "source": [
    "df.head(3)"
   ]
  },
  {
   "cell_type": "code",
   "execution_count": 12,
   "id": "75ac4bba",
   "metadata": {},
   "outputs": [
    {
     "data": {
      "text/plain": [
       "17898"
      ]
     },
     "execution_count": 12,
     "metadata": {},
     "output_type": "execute_result"
    }
   ],
   "source": [
    "# df.info()\n",
    "len(df)"
   ]
  },
  {
   "cell_type": "code",
   "execution_count": 13,
   "id": "d6fa0459",
   "metadata": {},
   "outputs": [],
   "source": [
    "from sklearn.linear_model import LogisticRegression"
   ]
  },
  {
   "cell_type": "code",
   "execution_count": 14,
   "id": "0e3be332",
   "metadata": {},
   "outputs": [],
   "source": [
    "X = df.iloc[:, 0:8]\n",
    "y = df.iloc[:,8]"
   ]
  },
  {
   "cell_type": "code",
   "execution_count": 15,
   "id": "257f0b3e",
   "metadata": {},
   "outputs": [],
   "source": [
    "def clf_model(model):\n",
    "    clf = model\n",
    "    \n",
    "    scores = cross_val_score(clf, X, y)\n",
    "    print(f\"Scores: {scores}\")\n",
    "    print(f\"Mean Score: {scores.mean()}\")"
   ]
  },
  {
   "cell_type": "code",
   "execution_count": 16,
   "id": "90a2d5e8",
   "metadata": {},
   "outputs": [
    {
     "name": "stderr",
     "output_type": "stream",
     "text": [
      "/usr/local/lib/python3.9/site-packages/sklearn/linear_model/_logistic.py:814: ConvergenceWarning: lbfgs failed to converge (status=1):\n",
      "STOP: TOTAL NO. of ITERATIONS REACHED LIMIT.\n",
      "\n",
      "Increase the number of iterations (max_iter) or scale the data as shown in:\n",
      "    https://scikit-learn.org/stable/modules/preprocessing.html\n",
      "Please also refer to the documentation for alternative solver options:\n",
      "    https://scikit-learn.org/stable/modules/linear_model.html#logistic-regression\n",
      "  n_iter_i = _check_optimize_result(\n",
      "/usr/local/lib/python3.9/site-packages/sklearn/linear_model/_logistic.py:814: ConvergenceWarning: lbfgs failed to converge (status=1):\n",
      "STOP: TOTAL NO. of ITERATIONS REACHED LIMIT.\n",
      "\n",
      "Increase the number of iterations (max_iter) or scale the data as shown in:\n",
      "    https://scikit-learn.org/stable/modules/preprocessing.html\n",
      "Please also refer to the documentation for alternative solver options:\n",
      "    https://scikit-learn.org/stable/modules/linear_model.html#logistic-regression\n",
      "  n_iter_i = _check_optimize_result(\n",
      "/usr/local/lib/python3.9/site-packages/sklearn/linear_model/_logistic.py:814: ConvergenceWarning: lbfgs failed to converge (status=1):\n",
      "STOP: TOTAL NO. of ITERATIONS REACHED LIMIT.\n",
      "\n",
      "Increase the number of iterations (max_iter) or scale the data as shown in:\n",
      "    https://scikit-learn.org/stable/modules/preprocessing.html\n",
      "Please also refer to the documentation for alternative solver options:\n",
      "    https://scikit-learn.org/stable/modules/linear_model.html#logistic-regression\n",
      "  n_iter_i = _check_optimize_result(\n",
      "/usr/local/lib/python3.9/site-packages/sklearn/linear_model/_logistic.py:814: ConvergenceWarning: lbfgs failed to converge (status=1):\n",
      "STOP: TOTAL NO. of ITERATIONS REACHED LIMIT.\n",
      "\n",
      "Increase the number of iterations (max_iter) or scale the data as shown in:\n",
      "    https://scikit-learn.org/stable/modules/preprocessing.html\n",
      "Please also refer to the documentation for alternative solver options:\n",
      "    https://scikit-learn.org/stable/modules/linear_model.html#logistic-regression\n",
      "  n_iter_i = _check_optimize_result(\n"
     ]
    },
    {
     "name": "stdout",
     "output_type": "stream",
     "text": [
      "Scores: [0.97458101 0.97988827 0.98128492 0.97736798 0.9782062 ]\n",
      "Mean Score: 0.9782656745353482\n"
     ]
    },
    {
     "name": "stderr",
     "output_type": "stream",
     "text": [
      "/usr/local/lib/python3.9/site-packages/sklearn/linear_model/_logistic.py:814: ConvergenceWarning: lbfgs failed to converge (status=1):\n",
      "STOP: TOTAL NO. of ITERATIONS REACHED LIMIT.\n",
      "\n",
      "Increase the number of iterations (max_iter) or scale the data as shown in:\n",
      "    https://scikit-learn.org/stable/modules/preprocessing.html\n",
      "Please also refer to the documentation for alternative solver options:\n",
      "    https://scikit-learn.org/stable/modules/linear_model.html#logistic-regression\n",
      "  n_iter_i = _check_optimize_result(\n"
     ]
    }
   ],
   "source": [
    "clf_model(LogisticRegression())"
   ]
  },
  {
   "cell_type": "code",
   "execution_count": 17,
   "id": "d21afba1",
   "metadata": {},
   "outputs": [],
   "source": [
    "from sklearn.naive_bayes import GaussianNB"
   ]
  },
  {
   "cell_type": "code",
   "execution_count": 18,
   "id": "f1bddfcd",
   "metadata": {},
   "outputs": [
    {
     "name": "stdout",
     "output_type": "stream",
     "text": [
      "Scores: [0.96061453 0.92374302 0.94273743 0.92847164 0.96451523]\n",
      "Mean Score: 0.9440163679814436\n"
     ]
    }
   ],
   "source": [
    "clf_model(GaussianNB())"
   ]
  },
  {
   "cell_type": "code",
   "execution_count": 19,
   "id": "768a03fe",
   "metadata": {},
   "outputs": [
    {
     "name": "stderr",
     "output_type": "stream",
     "text": [
      "/usr/local/lib/python3.9/site-packages/sklearn/base.py:441: UserWarning: X does not have valid feature names, but KNeighborsClassifier was fitted with feature names\n",
      "  warnings.warn(\n",
      "/usr/local/lib/python3.9/site-packages/sklearn/base.py:441: UserWarning: X does not have valid feature names, but KNeighborsClassifier was fitted with feature names\n",
      "  warnings.warn(\n",
      "/usr/local/lib/python3.9/site-packages/sklearn/base.py:441: UserWarning: X does not have valid feature names, but KNeighborsClassifier was fitted with feature names\n",
      "  warnings.warn(\n",
      "/usr/local/lib/python3.9/site-packages/sklearn/base.py:441: UserWarning: X does not have valid feature names, but KNeighborsClassifier was fitted with feature names\n",
      "  warnings.warn(\n",
      "/usr/local/lib/python3.9/site-packages/sklearn/base.py:441: UserWarning: X does not have valid feature names, but KNeighborsClassifier was fitted with feature names\n",
      "  warnings.warn(\n"
     ]
    },
    {
     "name": "stdout",
     "output_type": "stream",
     "text": [
      "Scores: [0.96955307 0.96927374 0.97318436 0.9706622  0.97289746]\n",
      "Mean Score: 0.9711141653437728\n"
     ]
    }
   ],
   "source": [
    "from sklearn.neighbors import KNeighborsClassifier\n",
    "clf_model(KNeighborsClassifier())"
   ]
  },
  {
   "cell_type": "code",
   "execution_count": 20,
   "id": "e38f14ec",
   "metadata": {},
   "outputs": [
    {
     "name": "stdout",
     "output_type": "stream",
     "text": [
      "Scores: [0.96955307 0.96620112 0.96703911 0.96507404 0.96982397]\n",
      "Mean Score: 0.9675382624590059\n"
     ]
    }
   ],
   "source": [
    "from sklearn.tree import DecisionTreeClassifier\n",
    "clf_model(DecisionTreeClassifier())"
   ]
  },
  {
   "cell_type": "code",
   "execution_count": 21,
   "id": "2c4afff0",
   "metadata": {},
   "outputs": [
    {
     "name": "stdout",
     "output_type": "stream",
     "text": [
      "Scores: [0.97709497 0.98184358 0.98072626 0.97513272 0.9779268 ]\n",
      "Mean Score: 0.9785448636599906\n"
     ]
    }
   ],
   "source": [
    "from sklearn.ensemble import RandomForestClassifier\n",
    "clf_model(RandomForestClassifier())"
   ]
  },
  {
   "cell_type": "code",
   "execution_count": 37,
   "id": "07cd734f",
   "metadata": {},
   "outputs": [
    {
     "data": {
      "text/plain": [
       "17898"
      ]
     },
     "execution_count": 37,
     "metadata": {},
     "output_type": "execute_result"
    }
   ],
   "source": [
    "df.Mean_of_the_integrated_profile.count()"
   ]
  },
  {
   "cell_type": "code",
   "execution_count": 23,
   "id": "46ed5ab0",
   "metadata": {},
   "outputs": [
    {
     "data": {
      "text/plain": [
       "17898"
      ]
     },
     "execution_count": 23,
     "metadata": {},
     "output_type": "execute_result"
    }
   ],
   "source": [
    "df.Class.count()"
   ]
  },
  {
   "cell_type": "code",
   "execution_count": 24,
   "id": "be425190",
   "metadata": {},
   "outputs": [
    {
     "data": {
      "text/plain": [
       "1639"
      ]
     },
     "execution_count": 24,
     "metadata": {},
     "output_type": "execute_result"
    }
   ],
   "source": [
    "df[df.Class == 1].Class.count()"
   ]
  },
  {
   "cell_type": "code",
   "execution_count": 25,
   "id": "e649cb49",
   "metadata": {},
   "outputs": [
    {
     "data": {
      "text/plain": [
       "0.09157447759526204"
      ]
     },
     "execution_count": 25,
     "metadata": {},
     "output_type": "execute_result"
    }
   ],
   "source": [
    "df[df.Class == 1].Class.count()/df.Class.count()"
   ]
  },
  {
   "cell_type": "code",
   "execution_count": 26,
   "id": "e5cb0aeb",
   "metadata": {},
   "outputs": [],
   "source": [
    "from sklearn.metrics import classification_report\n",
    "from sklearn.metrics import confusion_matrix"
   ]
  },
  {
   "cell_type": "code",
   "execution_count": 27,
   "id": "1c1af69e",
   "metadata": {},
   "outputs": [],
   "source": [
    "X_train, X_test, y_train, y_test = train_test_split(X,y, test_size = 0.25)"
   ]
  },
  {
   "cell_type": "code",
   "execution_count": 30,
   "id": "1d60c212",
   "metadata": {},
   "outputs": [],
   "source": [
    "def confusion(model):\n",
    "    clf = model\n",
    "    clf.fit(X_train, y_train)\n",
    "    y_pred = clf.predict(X_test)\n",
    "    print(f'Confusion Matrix: {y_test, y_pred}')\n",
    "    print(f'Classification Report: {classification_report(y_test,y_pred)}')\n",
    "    return clf"
   ]
  },
  {
   "cell_type": "code",
   "execution_count": 31,
   "id": "3918d8db",
   "metadata": {},
   "outputs": [
    {
     "name": "stdout",
     "output_type": "stream",
     "text": [
      "Confusion Matrix: (8413     0\n",
      "4087     1\n",
      "11325    0\n",
      "48       0\n",
      "10967    0\n",
      "        ..\n",
      "14159    0\n",
      "469      0\n",
      "14196    0\n",
      "7359     0\n",
      "14277    0\n",
      "Name: Class, Length: 4475, dtype: int64, array([0, 1, 0, ..., 0, 0, 0]))\n",
      "Classification Report:               precision    recall  f1-score   support\n",
      "\n",
      "           0       0.98      1.00      0.99      4061\n",
      "           1       0.95      0.85      0.90       414\n",
      "\n",
      "    accuracy                           0.98      4475\n",
      "   macro avg       0.97      0.92      0.94      4475\n",
      "weighted avg       0.98      0.98      0.98      4475\n",
      "\n"
     ]
    },
    {
     "name": "stderr",
     "output_type": "stream",
     "text": [
      "/usr/local/lib/python3.9/site-packages/sklearn/linear_model/_logistic.py:814: ConvergenceWarning: lbfgs failed to converge (status=1):\n",
      "STOP: TOTAL NO. of ITERATIONS REACHED LIMIT.\n",
      "\n",
      "Increase the number of iterations (max_iter) or scale the data as shown in:\n",
      "    https://scikit-learn.org/stable/modules/preprocessing.html\n",
      "Please also refer to the documentation for alternative solver options:\n",
      "    https://scikit-learn.org/stable/modules/linear_model.html#logistic-regression\n",
      "  n_iter_i = _check_optimize_result(\n"
     ]
    },
    {
     "data": {
      "text/plain": [
       "LogisticRegression()"
      ]
     },
     "execution_count": 31,
     "metadata": {},
     "output_type": "execute_result"
    }
   ],
   "source": [
    "confusion(LogisticRegression())"
   ]
  },
  {
   "cell_type": "code",
   "execution_count": 32,
   "id": "4e0a3cf1",
   "metadata": {},
   "outputs": [
    {
     "name": "stdout",
     "output_type": "stream",
     "text": [
      "Confusion Matrix: (8413     0\n",
      "4087     1\n",
      "11325    0\n",
      "48       0\n",
      "10967    0\n",
      "        ..\n",
      "14159    0\n",
      "469      0\n",
      "14196    0\n",
      "7359     0\n",
      "14277    0\n",
      "Name: Class, Length: 4475, dtype: int64, array([0, 1, 0, ..., 0, 0, 0]))\n",
      "Classification Report:               precision    recall  f1-score   support\n",
      "\n",
      "           0       0.99      1.00      0.99      4061\n",
      "           1       0.95      0.87      0.91       414\n",
      "\n",
      "    accuracy                           0.98      4475\n",
      "   macro avg       0.97      0.93      0.95      4475\n",
      "weighted avg       0.98      0.98      0.98      4475\n",
      "\n"
     ]
    },
    {
     "data": {
      "text/plain": [
       "RandomForestClassifier()"
      ]
     },
     "execution_count": 32,
     "metadata": {},
     "output_type": "execute_result"
    }
   ],
   "source": [
    "confusion(RandomForestClassifier())"
   ]
  },
  {
   "cell_type": "code",
   "execution_count": 34,
   "id": "2909e47b",
   "metadata": {},
   "outputs": [
    {
     "name": "stderr",
     "output_type": "stream",
     "text": [
      "/usr/local/lib/python3.9/site-packages/sklearn/base.py:441: UserWarning: X does not have valid feature names, but AdaBoostClassifier was fitted with feature names\n",
      "  warnings.warn(\n",
      "/usr/local/lib/python3.9/site-packages/sklearn/base.py:441: UserWarning: X does not have valid feature names, but AdaBoostClassifier was fitted with feature names\n",
      "  warnings.warn(\n",
      "/usr/local/lib/python3.9/site-packages/sklearn/base.py:441: UserWarning: X does not have valid feature names, but AdaBoostClassifier was fitted with feature names\n",
      "  warnings.warn(\n",
      "/usr/local/lib/python3.9/site-packages/sklearn/base.py:441: UserWarning: X does not have valid feature names, but AdaBoostClassifier was fitted with feature names\n",
      "  warnings.warn(\n"
     ]
    },
    {
     "name": "stdout",
     "output_type": "stream",
     "text": [
      "Scores: [0.97430168 0.97988827 0.98128492 0.97597094 0.97708857]\n",
      "Mean Score: 0.977706874833175\n"
     ]
    },
    {
     "name": "stderr",
     "output_type": "stream",
     "text": [
      "/usr/local/lib/python3.9/site-packages/sklearn/base.py:441: UserWarning: X does not have valid feature names, but AdaBoostClassifier was fitted with feature names\n",
      "  warnings.warn(\n"
     ]
    }
   ],
   "source": [
    "from sklearn.ensemble import AdaBoostClassifier\n",
    "clf_model(AdaBoostClassifier())"
   ]
  },
  {
   "cell_type": "code",
   "execution_count": 35,
   "id": "51a34a29",
   "metadata": {},
   "outputs": [
    {
     "name": "stdout",
     "output_type": "stream",
     "text": [
      "Confusion Matrix: (8413     0\n",
      "4087     1\n",
      "11325    0\n",
      "48       0\n",
      "10967    0\n",
      "        ..\n",
      "14159    0\n",
      "469      0\n",
      "14196    0\n",
      "7359     0\n",
      "14277    0\n",
      "Name: Class, Length: 4475, dtype: int64, array([0, 1, 0, ..., 0, 0, 0]))\n",
      "Classification Report:               precision    recall  f1-score   support\n",
      "\n",
      "           0       0.98      0.99      0.99      4061\n",
      "           1       0.94      0.84      0.89       414\n",
      "\n",
      "    accuracy                           0.98      4475\n",
      "   macro avg       0.96      0.92      0.94      4475\n",
      "weighted avg       0.98      0.98      0.98      4475\n",
      "\n"
     ]
    },
    {
     "name": "stderr",
     "output_type": "stream",
     "text": [
      "/usr/local/lib/python3.9/site-packages/sklearn/base.py:441: UserWarning: X does not have valid feature names, but AdaBoostClassifier was fitted with feature names\n",
      "  warnings.warn(\n"
     ]
    },
    {
     "data": {
      "text/plain": [
       "AdaBoostClassifier()"
      ]
     },
     "execution_count": 35,
     "metadata": {},
     "output_type": "execute_result"
    }
   ],
   "source": [
    "confusion(AdaBoostClassifier())"
   ]
  },
  {
   "cell_type": "markdown",
   "id": "42f24366",
   "metadata": {},
   "source": [
    "## Customer Churn"
   ]
  },
  {
   "cell_type": "code",
   "execution_count": 49,
   "id": "8397a2ad",
   "metadata": {},
   "outputs": [],
   "source": [
    "churnDF = pd.read_csv(\"CHURN.csv\")"
   ]
  },
  {
   "cell_type": "code",
   "execution_count": 50,
   "id": "eb72f4ce",
   "metadata": {},
   "outputs": [
    {
     "data": {
      "text/plain": [
       "0     No\n",
       "1     No\n",
       "2    Yes\n",
       "Name: Churn, dtype: object"
      ]
     },
     "execution_count": 50,
     "metadata": {},
     "output_type": "execute_result"
    }
   ],
   "source": [
    "churnDF.Churn.head(3)"
   ]
  },
  {
   "cell_type": "code",
   "execution_count": 51,
   "id": "4b9e70e3",
   "metadata": {},
   "outputs": [],
   "source": [
    "churnDF['Churn'] = churnDF['Churn']. \\\n",
    "replace(to_replace=['No', 'Yes'], value=[0,1])"
   ]
  },
  {
   "cell_type": "code",
   "execution_count": 52,
   "id": "f20af190",
   "metadata": {},
   "outputs": [
    {
     "data": {
      "text/plain": [
       "0    0\n",
       "1    0\n",
       "2    1\n",
       "3    0\n",
       "4    1\n",
       "Name: Churn, dtype: int64"
      ]
     },
     "execution_count": 52,
     "metadata": {},
     "output_type": "execute_result"
    }
   ],
   "source": [
    "churnDF.Churn.head()"
   ]
  },
  {
   "cell_type": "code",
   "execution_count": 53,
   "id": "e9a79ba6",
   "metadata": {},
   "outputs": [
    {
     "data": {
      "text/plain": [
       "21"
      ]
     },
     "execution_count": 53,
     "metadata": {},
     "output_type": "execute_result"
    }
   ],
   "source": [
    "len(churnDF.columns)"
   ]
  },
  {
   "cell_type": "code",
   "execution_count": 54,
   "id": "fcdb4971",
   "metadata": {},
   "outputs": [],
   "source": [
    "X = churnDF.iloc[:, 0:20]\n",
    "y = churnDF.iloc[:,20]"
   ]
  },
  {
   "cell_type": "code",
   "execution_count": 55,
   "id": "c281e0f0",
   "metadata": {},
   "outputs": [],
   "source": [
    "X = pd.get_dummies(X)"
   ]
  },
  {
   "cell_type": "code",
   "execution_count": 67,
   "id": "601c7c79",
   "metadata": {},
   "outputs": [],
   "source": [
    "def clf_models(model, cv=3):\n",
    "    clf = model\n",
    "    \n",
    "    scores = cross_val_score(clf, X, y, cv=cv)\n",
    "    print(f\"Scores: {scores}\")\n",
    "    print(f\"Mean Score: {scores.mean()}\")"
   ]
  },
  {
   "cell_type": "code",
   "execution_count": 68,
   "id": "1f4c47e0",
   "metadata": {},
   "outputs": [
    {
     "name": "stdout",
     "output_type": "stream",
     "text": [
      "Scores: [0.78833049 0.79131175 0.79463144]\n",
      "Mean Score: 0.7914245643731398\n"
     ]
    }
   ],
   "source": [
    "clf_models(RandomForestClassifier())"
   ]
  },
  {
   "cell_type": "code",
   "execution_count": 69,
   "id": "6e367f62",
   "metadata": {},
   "outputs": [
    {
     "name": "stderr",
     "output_type": "stream",
     "text": [
      "/usr/local/lib/python3.9/site-packages/sklearn/base.py:441: UserWarning: X does not have valid feature names, but KNeighborsClassifier was fitted with feature names\n",
      "  warnings.warn(\n",
      "/usr/local/lib/python3.9/site-packages/sklearn/base.py:441: UserWarning: X does not have valid feature names, but KNeighborsClassifier was fitted with feature names\n",
      "  warnings.warn(\n",
      "/usr/local/lib/python3.9/site-packages/sklearn/base.py:441: UserWarning: X does not have valid feature names, but KNeighborsClassifier was fitted with feature names\n",
      "  warnings.warn(\n"
     ]
    },
    {
     "name": "stdout",
     "output_type": "stream",
     "text": [
      "Scores: [0.78109029 0.76192504 0.77290158]\n",
      "Mean Score: 0.7719723028927428\n"
     ]
    }
   ],
   "source": [
    "clf_models(KNeighborsClassifier())"
   ]
  },
  {
   "cell_type": "code",
   "execution_count": 70,
   "id": "8e927c28",
   "metadata": {},
   "outputs": [
    {
     "name": "stdout",
     "output_type": "stream",
     "text": [
      "Scores: [0.27309454 0.2624904  0.25858513]\n",
      "Mean Score: 0.2647233557045052\n"
     ]
    }
   ],
   "source": [
    "clf_models(LinearRegression())"
   ]
  },
  {
   "cell_type": "code",
   "execution_count": 71,
   "id": "1d158003",
   "metadata": {},
   "outputs": [
    {
     "name": "stderr",
     "output_type": "stream",
     "text": [
      "/usr/local/lib/python3.9/site-packages/sklearn/base.py:441: UserWarning: X does not have valid feature names, but AdaBoostClassifier was fitted with feature names\n",
      "  warnings.warn(\n",
      "/usr/local/lib/python3.9/site-packages/sklearn/base.py:441: UserWarning: X does not have valid feature names, but AdaBoostClassifier was fitted with feature names\n",
      "  warnings.warn(\n",
      "/usr/local/lib/python3.9/site-packages/sklearn/base.py:441: UserWarning: X does not have valid feature names, but AdaBoostClassifier was fitted with feature names\n",
      "  warnings.warn(\n"
     ]
    },
    {
     "name": "stdout",
     "output_type": "stream",
     "text": [
      "Scores: [0.80366269 0.80451448 0.80059651]\n",
      "Mean Score: 0.8029245594131428\n"
     ]
    }
   ],
   "source": [
    "clf_models(AdaBoostClassifier())\n",
    "# GaussianNB\n",
    "# DecisionTree\n",
    "# X_train, X_test, y_train, y_test = train_test_split(X,y, test_size = 0.25)"
   ]
  },
  {
   "cell_type": "code",
   "execution_count": 72,
   "id": "a8df6e71",
   "metadata": {},
   "outputs": [
    {
     "name": "stdout",
     "output_type": "stream",
     "text": [
      "Scores: [0.27725724 0.28109029 0.27652322]\n",
      "Mean Score: 0.2782902503153228\n"
     ]
    }
   ],
   "source": [
    "clf_models(GaussianNB())"
   ]
  },
  {
   "cell_type": "code",
   "execution_count": 73,
   "id": "e426ab54",
   "metadata": {},
   "outputs": [
    {
     "name": "stdout",
     "output_type": "stream",
     "text": [
      "Scores: [0.7649063  0.77001704 0.77801449]\n",
      "Mean Score: 0.7709792751968454\n"
     ]
    }
   ],
   "source": [
    "clf_models(DecisionTreeClassifier())"
   ]
  },
  {
   "cell_type": "code",
   "execution_count": 74,
   "id": "29c22524",
   "metadata": {},
   "outputs": [],
   "source": [
    "X_train, X_test, y_train, y_test = train_test_split(X,y, test_size = 0.25)"
   ]
  },
  {
   "cell_type": "code",
   "execution_count": 75,
   "id": "e35aa5a8",
   "metadata": {},
   "outputs": [],
   "source": [
    "# def confusion_churn(model):\n",
    "#     clf = model\n",
    "#     clf.fit(X_train, y_train)\n",
    "#     y_pred = clf.predict(X_test)\n",
    "#     print(f'Confusion Matrix: {y_test, y_pred}')\n",
    "#     print(f'Classification Report: {classification_report(y_test,y_pred)}')\n",
    "#     return clf"
   ]
  },
  {
   "cell_type": "code",
   "execution_count": 78,
   "id": "3ba7d9af",
   "metadata": {},
   "outputs": [
    {
     "name": "stderr",
     "output_type": "stream",
     "text": [
      "/usr/local/lib/python3.9/site-packages/sklearn/base.py:441: UserWarning: X does not have valid feature names, but AdaBoostClassifier was fitted with feature names\n",
      "  warnings.warn(\n"
     ]
    },
    {
     "name": "stdout",
     "output_type": "stream",
     "text": [
      "Confusion Matrix: (5906    1\n",
      "3648    0\n",
      "1563    0\n",
      "5549    1\n",
      "3740    0\n",
      "       ..\n",
      "3870    0\n",
      "3083    0\n",
      "5923    0\n",
      "2027    0\n",
      "6590    1\n",
      "Name: Churn, Length: 1761, dtype: int64, array([1, 0, 1, ..., 0, 0, 1]))\n",
      "Classification Report:               precision    recall  f1-score   support\n",
      "\n",
      "           0       0.85      0.90      0.88      1314\n",
      "           1       0.65      0.54      0.59       447\n",
      "\n",
      "    accuracy                           0.81      1761\n",
      "   macro avg       0.75      0.72      0.73      1761\n",
      "weighted avg       0.80      0.81      0.80      1761\n",
      "\n"
     ]
    },
    {
     "data": {
      "text/plain": [
       "AdaBoostClassifier(n_estimators=250)"
      ]
     },
     "execution_count": 78,
     "metadata": {},
     "output_type": "execute_result"
    }
   ],
   "source": [
    "confusion(AdaBoostClassifier(n_estimators=250))"
   ]
  },
  {
   "cell_type": "code",
   "execution_count": 77,
   "id": "7d6428eb",
   "metadata": {},
   "outputs": [
    {
     "name": "stdout",
     "output_type": "stream",
     "text": [
      "Confusion Matrix: (5906    1\n",
      "3648    0\n",
      "1563    0\n",
      "5549    1\n",
      "3740    0\n",
      "       ..\n",
      "3870    0\n",
      "3083    0\n",
      "5923    0\n",
      "2027    0\n",
      "6590    1\n",
      "Name: Churn, Length: 1761, dtype: int64, array([1, 0, 1, ..., 1, 0, 1]))\n",
      "Classification Report:               precision    recall  f1-score   support\n",
      "\n",
      "           0       0.83      0.90      0.86      1314\n",
      "           1       0.62      0.45      0.52       447\n",
      "\n",
      "    accuracy                           0.79      1761\n",
      "   macro avg       0.72      0.68      0.69      1761\n",
      "weighted avg       0.77      0.79      0.78      1761\n",
      "\n"
     ]
    },
    {
     "data": {
      "text/plain": [
       "RandomForestClassifier()"
      ]
     },
     "execution_count": 77,
     "metadata": {},
     "output_type": "execute_result"
    }
   ],
   "source": [
    "confusion(RandomForestClassifier())"
   ]
  },
  {
   "cell_type": "code",
   "execution_count": 79,
   "id": "c38153ba",
   "metadata": {},
   "outputs": [
    {
     "name": "stderr",
     "output_type": "stream",
     "text": [
      "/usr/local/lib/python3.9/site-packages/sklearn/linear_model/_logistic.py:814: ConvergenceWarning: lbfgs failed to converge (status=1):\n",
      "STOP: TOTAL NO. of ITERATIONS REACHED LIMIT.\n",
      "\n",
      "Increase the number of iterations (max_iter) or scale the data as shown in:\n",
      "    https://scikit-learn.org/stable/modules/preprocessing.html\n",
      "Please also refer to the documentation for alternative solver options:\n",
      "    https://scikit-learn.org/stable/modules/linear_model.html#logistic-regression\n",
      "  n_iter_i = _check_optimize_result(\n",
      "/usr/local/lib/python3.9/site-packages/sklearn/linear_model/_logistic.py:814: ConvergenceWarning: lbfgs failed to converge (status=1):\n",
      "STOP: TOTAL NO. of ITERATIONS REACHED LIMIT.\n",
      "\n",
      "Increase the number of iterations (max_iter) or scale the data as shown in:\n",
      "    https://scikit-learn.org/stable/modules/preprocessing.html\n",
      "Please also refer to the documentation for alternative solver options:\n",
      "    https://scikit-learn.org/stable/modules/linear_model.html#logistic-regression\n",
      "  n_iter_i = _check_optimize_result(\n"
     ]
    },
    {
     "name": "stdout",
     "output_type": "stream",
     "text": [
      "Scores: [0.79258944 0.79940375 0.80017043]\n",
      "Mean Score: 0.7973878720088496\n"
     ]
    },
    {
     "name": "stderr",
     "output_type": "stream",
     "text": [
      "/usr/local/lib/python3.9/site-packages/sklearn/linear_model/_logistic.py:814: ConvergenceWarning: lbfgs failed to converge (status=1):\n",
      "STOP: TOTAL NO. of ITERATIONS REACHED LIMIT.\n",
      "\n",
      "Increase the number of iterations (max_iter) or scale the data as shown in:\n",
      "    https://scikit-learn.org/stable/modules/preprocessing.html\n",
      "Please also refer to the documentation for alternative solver options:\n",
      "    https://scikit-learn.org/stable/modules/linear_model.html#logistic-regression\n",
      "  n_iter_i = _check_optimize_result(\n"
     ]
    }
   ],
   "source": [
    "clf_models(LogisticRegression())"
   ]
  },
  {
   "cell_type": "code",
   "execution_count": 80,
   "id": "56c15690",
   "metadata": {},
   "outputs": [
    {
     "name": "stdout",
     "output_type": "stream",
     "text": [
      "Confusion Matrix: (5906    1\n",
      "3648    0\n",
      "1563    0\n",
      "5549    1\n",
      "3740    0\n",
      "       ..\n",
      "3870    0\n",
      "3083    0\n",
      "5923    0\n",
      "2027    0\n",
      "6590    1\n",
      "Name: Churn, Length: 1761, dtype: int64, array([1, 0, 1, ..., 1, 0, 1]))\n",
      "Classification Report:               precision    recall  f1-score   support\n",
      "\n",
      "           0       0.85      0.90      0.87      1314\n",
      "           1       0.64      0.54      0.58       447\n",
      "\n",
      "    accuracy                           0.81      1761\n",
      "   macro avg       0.74      0.72      0.73      1761\n",
      "weighted avg       0.80      0.81      0.80      1761\n",
      "\n"
     ]
    },
    {
     "name": "stderr",
     "output_type": "stream",
     "text": [
      "/usr/local/lib/python3.9/site-packages/sklearn/linear_model/_logistic.py:814: ConvergenceWarning: lbfgs failed to converge (status=1):\n",
      "STOP: TOTAL NO. of ITERATIONS REACHED LIMIT.\n",
      "\n",
      "Increase the number of iterations (max_iter) or scale the data as shown in:\n",
      "    https://scikit-learn.org/stable/modules/preprocessing.html\n",
      "Please also refer to the documentation for alternative solver options:\n",
      "    https://scikit-learn.org/stable/modules/linear_model.html#logistic-regression\n",
      "  n_iter_i = _check_optimize_result(\n"
     ]
    },
    {
     "data": {
      "text/plain": [
       "LogisticRegression()"
      ]
     },
     "execution_count": 80,
     "metadata": {},
     "output_type": "execute_result"
    }
   ],
   "source": [
    "confusion(LogisticRegression())"
   ]
  },
  {
   "cell_type": "code",
   "execution_count": null,
   "id": "a875ef3d",
   "metadata": {},
   "outputs": [],
   "source": []
  },
  {
   "cell_type": "code",
   "execution_count": null,
   "id": "8768e4b8",
   "metadata": {},
   "outputs": [],
   "source": []
  }
 ],
 "metadata": {
  "kernelspec": {
   "display_name": "Python 3",
   "language": "python",
   "name": "python3"
  },
  "language_info": {
   "codemirror_mode": {
    "name": "ipython",
    "version": 3
   },
   "file_extension": ".py",
   "mimetype": "text/x-python",
   "name": "python",
   "nbconvert_exporter": "python",
   "pygments_lexer": "ipython3",
   "version": "3.9.7"
  }
 },
 "nbformat": 4,
 "nbformat_minor": 5
}
